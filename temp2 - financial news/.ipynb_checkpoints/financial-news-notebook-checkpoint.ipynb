{
 "cells": [
  {
   "cell_type": "code",
   "execution_count": 1,
   "id": "f0ca7f8e",
   "metadata": {
    "_cell_guid": "b1076dfc-b9ad-4769-8c92-a6c4dae69d19",
    "_uuid": "8f2839f25d086af736a60e9eeb907d3b93b6e0e5",
    "execution": {
     "iopub.execute_input": "2022-09-19T16:20:05.144964Z",
     "iopub.status.busy": "2022-09-19T16:20:05.144008Z",
     "iopub.status.idle": "2022-09-19T16:20:12.541926Z",
     "shell.execute_reply": "2022-09-19T16:20:12.540416Z"
    },
    "papermill": {
     "duration": 7.41094,
     "end_time": "2022-09-19T16:20:12.545866",
     "exception": false,
     "start_time": "2022-09-19T16:20:05.134926",
     "status": "completed"
    },
    "tags": []
   },
   "outputs": [
    {
     "name": "stderr",
     "output_type": "stream",
     "text": [
      "C:\\Users\\ARCHI\\anaconda3\\envs\\project-env\\lib\\site-packages\\scipy\\__init__.py:146: UserWarning: A NumPy version >=1.16.5 and <1.23.0 is required for this version of SciPy (detected version 1.23.1\n",
      "  warnings.warn(f\"A NumPy version >={np_minversion} and <{np_maxversion}\"\n"
     ]
    }
   ],
   "source": [
    "import numpy as np\n",
    "import pandas as pd\n",
    "import tensorflow as tf\n",
    "from tensorflow.keras.preprocessing.text import Tokenizer\n",
    "from tensorflow.keras.preprocessing.sequence import pad_sequences\n",
    "from sklearn.model_selection import train_test_split"
   ]
  },
  {
   "cell_type": "code",
   "execution_count": 2,
   "id": "2be8d099",
   "metadata": {
    "execution": {
     "iopub.execute_input": "2022-09-19T16:20:12.557570Z",
     "iopub.status.busy": "2022-09-19T16:20:12.556445Z",
     "iopub.status.idle": "2022-09-19T16:20:12.604427Z",
     "shell.execute_reply": "2022-09-19T16:20:12.603358Z"
    },
    "papermill": {
     "duration": 0.056514,
     "end_time": "2022-09-19T16:20:12.607317",
     "exception": false,
     "start_time": "2022-09-19T16:20:12.550803",
     "status": "completed"
    },
    "tags": []
   },
   "outputs": [],
   "source": [
    "data = pd.read_csv('fn-data.csv', names=['Label', 'Text'], encoding='latin-1')"
   ]
  },
  {
   "cell_type": "code",
   "execution_count": 3,
   "id": "80c6bce4",
   "metadata": {
    "execution": {
     "iopub.execute_input": "2022-09-19T16:20:12.618209Z",
     "iopub.status.busy": "2022-09-19T16:20:12.617504Z",
     "iopub.status.idle": "2022-09-19T16:20:12.638236Z",
     "shell.execute_reply": "2022-09-19T16:20:12.637219Z"
    },
    "papermill": {
     "duration": 0.02967,
     "end_time": "2022-09-19T16:20:12.641305",
     "exception": false,
     "start_time": "2022-09-19T16:20:12.611635",
     "status": "completed"
    },
    "tags": []
   },
   "outputs": [
    {
     "data": {
      "text/html": [
       "<div>\n",
       "<style scoped>\n",
       "    .dataframe tbody tr th:only-of-type {\n",
       "        vertical-align: middle;\n",
       "    }\n",
       "\n",
       "    .dataframe tbody tr th {\n",
       "        vertical-align: top;\n",
       "    }\n",
       "\n",
       "    .dataframe thead th {\n",
       "        text-align: right;\n",
       "    }\n",
       "</style>\n",
       "<table border=\"1\" class=\"dataframe\">\n",
       "  <thead>\n",
       "    <tr style=\"text-align: right;\">\n",
       "      <th></th>\n",
       "      <th>Label</th>\n",
       "      <th>Text</th>\n",
       "    </tr>\n",
       "  </thead>\n",
       "  <tbody>\n",
       "    <tr>\n",
       "      <th>0</th>\n",
       "      <td>neutral</td>\n",
       "      <td>According to Gran , the company has no plans t...</td>\n",
       "    </tr>\n",
       "    <tr>\n",
       "      <th>1</th>\n",
       "      <td>neutral</td>\n",
       "      <td>Technopolis plans to develop in stages an area...</td>\n",
       "    </tr>\n",
       "    <tr>\n",
       "      <th>2</th>\n",
       "      <td>negative</td>\n",
       "      <td>The international electronic industry company ...</td>\n",
       "    </tr>\n",
       "    <tr>\n",
       "      <th>3</th>\n",
       "      <td>positive</td>\n",
       "      <td>With the new production plant the company woul...</td>\n",
       "    </tr>\n",
       "    <tr>\n",
       "      <th>4</th>\n",
       "      <td>positive</td>\n",
       "      <td>According to the company 's updated strategy f...</td>\n",
       "    </tr>\n",
       "    <tr>\n",
       "      <th>...</th>\n",
       "      <td>...</td>\n",
       "      <td>...</td>\n",
       "    </tr>\n",
       "    <tr>\n",
       "      <th>4841</th>\n",
       "      <td>negative</td>\n",
       "      <td>LONDON MarketWatch -- Share prices ended lower...</td>\n",
       "    </tr>\n",
       "    <tr>\n",
       "      <th>4842</th>\n",
       "      <td>neutral</td>\n",
       "      <td>Rinkuskiai 's beer sales fell by 6.5 per cent ...</td>\n",
       "    </tr>\n",
       "    <tr>\n",
       "      <th>4843</th>\n",
       "      <td>negative</td>\n",
       "      <td>Operating profit fell to EUR 35.4 mn from EUR ...</td>\n",
       "    </tr>\n",
       "    <tr>\n",
       "      <th>4844</th>\n",
       "      <td>negative</td>\n",
       "      <td>Net sales of the Paper segment decreased to EU...</td>\n",
       "    </tr>\n",
       "    <tr>\n",
       "      <th>4845</th>\n",
       "      <td>negative</td>\n",
       "      <td>Sales in Finland decreased by 10.5 % in Januar...</td>\n",
       "    </tr>\n",
       "  </tbody>\n",
       "</table>\n",
       "<p>4846 rows × 2 columns</p>\n",
       "</div>"
      ],
      "text/plain": [
       "         Label                                               Text\n",
       "0      neutral  According to Gran , the company has no plans t...\n",
       "1      neutral  Technopolis plans to develop in stages an area...\n",
       "2     negative  The international electronic industry company ...\n",
       "3     positive  With the new production plant the company woul...\n",
       "4     positive  According to the company 's updated strategy f...\n",
       "...        ...                                                ...\n",
       "4841  negative  LONDON MarketWatch -- Share prices ended lower...\n",
       "4842   neutral  Rinkuskiai 's beer sales fell by 6.5 per cent ...\n",
       "4843  negative  Operating profit fell to EUR 35.4 mn from EUR ...\n",
       "4844  negative  Net sales of the Paper segment decreased to EU...\n",
       "4845  negative  Sales in Finland decreased by 10.5 % in Januar...\n",
       "\n",
       "[4846 rows x 2 columns]"
      ]
     },
     "execution_count": 3,
     "metadata": {},
     "output_type": "execute_result"
    }
   ],
   "source": [
    "data"
   ]
  },
  {
   "cell_type": "code",
   "execution_count": 4,
   "id": "b0ccf588",
   "metadata": {
    "execution": {
     "iopub.execute_input": "2022-09-19T16:20:12.652145Z",
     "iopub.status.busy": "2022-09-19T16:20:12.651649Z",
     "iopub.status.idle": "2022-09-19T16:20:12.675043Z",
     "shell.execute_reply": "2022-09-19T16:20:12.673677Z"
    },
    "papermill": {
     "duration": 0.032104,
     "end_time": "2022-09-19T16:20:12.677867",
     "exception": false,
     "start_time": "2022-09-19T16:20:12.645763",
     "status": "completed"
    },
    "tags": []
   },
   "outputs": [
    {
     "name": "stdout",
     "output_type": "stream",
     "text": [
      "<class 'pandas.core.frame.DataFrame'>\n",
      "RangeIndex: 4846 entries, 0 to 4845\n",
      "Data columns (total 2 columns):\n",
      " #   Column  Non-Null Count  Dtype \n",
      "---  ------  --------------  ----- \n",
      " 0   Label   4846 non-null   object\n",
      " 1   Text    4846 non-null   object\n",
      "dtypes: object(2)\n",
      "memory usage: 75.8+ KB\n"
     ]
    }
   ],
   "source": [
    "data.info()"
   ]
  },
  {
   "cell_type": "markdown",
   "id": "b13313b5",
   "metadata": {
    "papermill": {
     "duration": 0.004114,
     "end_time": "2022-09-19T16:20:12.686483",
     "exception": false,
     "start_time": "2022-09-19T16:20:12.682369",
     "status": "completed"
    },
    "tags": []
   },
   "source": [
    "# Preprocessing"
   ]
  },
  {
   "cell_type": "code",
   "execution_count": 5,
   "id": "e4bcbe00",
   "metadata": {
    "execution": {
     "iopub.execute_input": "2022-09-19T16:20:12.697667Z",
     "iopub.status.busy": "2022-09-19T16:20:12.696928Z",
     "iopub.status.idle": "2022-09-19T16:20:12.704272Z",
     "shell.execute_reply": "2022-09-19T16:20:12.703325Z"
    },
    "papermill": {
     "duration": 0.01568,
     "end_time": "2022-09-19T16:20:12.706652",
     "exception": false,
     "start_time": "2022-09-19T16:20:12.690972",
     "status": "completed"
    },
    "tags": []
   },
   "outputs": [],
   "source": [
    "def get_sequences(texts):\n",
    "    tokenizer = Tokenizer()\n",
    "    tokenizer.fit_on_texts(texts)\n",
    "    \n",
    "    \n",
    "    sequences = tokenizer.texts_to_sequences(texts)\n",
    "    print(\"Vocab length\", len(tokenizer.word_index) + 1)\n",
    "    \n",
    "    max_seq_length = np.max(list(map(lambda x: len(x), sequences)))\n",
    "    print(\"Max sequence length\", max_seq_length)\n",
    "    \n",
    "    sequences = pad_sequences(sequences, maxlen = max_seq_length, padding = 'post')\n",
    "    \n",
    "    return sequences"
   ]
  },
  {
   "cell_type": "code",
   "execution_count": 6,
   "id": "b8a32d00",
   "metadata": {
    "execution": {
     "iopub.execute_input": "2022-09-19T16:20:12.717840Z",
     "iopub.status.busy": "2022-09-19T16:20:12.717113Z",
     "iopub.status.idle": "2022-09-19T16:20:12.724201Z",
     "shell.execute_reply": "2022-09-19T16:20:12.723117Z"
    },
    "papermill": {
     "duration": 0.015718,
     "end_time": "2022-09-19T16:20:12.726745",
     "exception": false,
     "start_time": "2022-09-19T16:20:12.711027",
     "status": "completed"
    },
    "tags": []
   },
   "outputs": [],
   "source": [
    "def preprocess_inputs(df):\n",
    "    df = df.copy()\n",
    "    \n",
    "    sequences = get_sequences(df['Text'])\n",
    "    \n",
    "    label_mapping = {\n",
    "        'negative': 0,\n",
    "        'neutral': 1,\n",
    "        'positive': 2\n",
    "    }\n",
    "    \n",
    "    y = df['Label'].replace(label_mapping)\n",
    "    \n",
    "    train_sequences, test_sequences, y_train, y_test = train_test_split(sequences, y, train_size = 0.7, shuffle = True, random_state = 1)\n",
    "    \n",
    "    \n",
    "    return train_sequences, test_sequences, y_train, y_test"
   ]
  },
  {
   "cell_type": "code",
   "execution_count": 7,
   "id": "99cfb23f",
   "metadata": {
    "execution": {
     "iopub.execute_input": "2022-09-19T16:20:12.737237Z",
     "iopub.status.busy": "2022-09-19T16:20:12.736474Z",
     "iopub.status.idle": "2022-09-19T16:20:13.015308Z",
     "shell.execute_reply": "2022-09-19T16:20:13.013879Z"
    },
    "papermill": {
     "duration": 0.28711,
     "end_time": "2022-09-19T16:20:13.018165",
     "exception": false,
     "start_time": "2022-09-19T16:20:12.731055",
     "status": "completed"
    },
    "tags": []
   },
   "outputs": [
    {
     "name": "stdout",
     "output_type": "stream",
     "text": [
      "Vocab length 10123\n",
      "Max sequence length 71\n"
     ]
    }
   ],
   "source": [
    "train_sequences, test_sequences, y_train, y_test = preprocess_inputs(data)"
   ]
  },
  {
   "cell_type": "code",
   "execution_count": 8,
   "id": "a415fee0",
   "metadata": {
    "execution": {
     "iopub.execute_input": "2022-09-19T16:20:13.030332Z",
     "iopub.status.busy": "2022-09-19T16:20:13.028967Z",
     "iopub.status.idle": "2022-09-19T16:20:13.039190Z",
     "shell.execute_reply": "2022-09-19T16:20:13.037756Z"
    },
    "papermill": {
     "duration": 0.019011,
     "end_time": "2022-09-19T16:20:13.041838",
     "exception": false,
     "start_time": "2022-09-19T16:20:13.022827",
     "status": "completed"
    },
    "tags": []
   },
   "outputs": [
    {
     "data": {
      "text/plain": [
       "array([[5442,  510,   16, ...,    0,    0,    0],\n",
       "       [  22, 1628,    4, ...,    0,    0,    0],\n",
       "       [1141,  936,  136, ...,    0,    0,    0],\n",
       "       ...,\n",
       "       [   1,  419,   16, ...,    0,    0,    0],\n",
       "       [2586,  123, 3247, ...,    0,    0,    0],\n",
       "       [  30,  615,  555, ...,    0,    0,    0]])"
      ]
     },
     "execution_count": 8,
     "metadata": {},
     "output_type": "execute_result"
    }
   ],
   "source": [
    "train_sequences"
   ]
  },
  {
   "cell_type": "code",
   "execution_count": 9,
   "id": "b770e3b5",
   "metadata": {
    "execution": {
     "iopub.execute_input": "2022-09-19T16:20:13.053295Z",
     "iopub.status.busy": "2022-09-19T16:20:13.052829Z",
     "iopub.status.idle": "2022-09-19T16:20:13.061822Z",
     "shell.execute_reply": "2022-09-19T16:20:13.060578Z"
    },
    "papermill": {
     "duration": 0.017681,
     "end_time": "2022-09-19T16:20:13.064232",
     "exception": false,
     "start_time": "2022-09-19T16:20:13.046551",
     "status": "completed"
    },
    "tags": []
   },
   "outputs": [
    {
     "data": {
      "text/plain": [
       "545     2\n",
       "2374    0\n",
       "4217    1\n",
       "1071    1\n",
       "716     2\n",
       "       ..\n",
       "2895    1\n",
       "2763    1\n",
       "905     2\n",
       "3980    1\n",
       "235     2\n",
       "Name: Label, Length: 3392, dtype: int64"
      ]
     },
     "execution_count": 9,
     "metadata": {},
     "output_type": "execute_result"
    }
   ],
   "source": [
    "y_train"
   ]
  },
  {
   "cell_type": "markdown",
   "id": "b0a54c85",
   "metadata": {
    "papermill": {
     "duration": 0.004409,
     "end_time": "2022-09-19T16:20:13.073561",
     "exception": false,
     "start_time": "2022-09-19T16:20:13.069152",
     "status": "completed"
    },
    "tags": []
   },
   "source": [
    "# Training"
   ]
  },
  {
   "cell_type": "code",
   "execution_count": 10,
   "id": "0341fd58",
   "metadata": {
    "execution": {
     "iopub.execute_input": "2022-09-19T16:20:13.084748Z",
     "iopub.status.busy": "2022-09-19T16:20:13.084273Z",
     "iopub.status.idle": "2022-09-19T16:21:17.055525Z",
     "shell.execute_reply": "2022-09-19T16:21:17.054403Z"
    },
    "papermill": {
     "duration": 63.980199,
     "end_time": "2022-09-19T16:21:17.058277",
     "exception": false,
     "start_time": "2022-09-19T16:20:13.078078",
     "status": "completed"
    },
    "tags": []
   },
   "outputs": [
    {
     "name": "stdout",
     "output_type": "stream",
     "text": [
      "Epoch 1/100\n",
      "85/85 [==============================] - 22s 193ms/step - loss: 0.8295 - accuracy: 0.6310 - val_loss: 0.8028 - val_accuracy: 0.6568\n",
      "Epoch 2/100\n",
      "85/85 [==============================] - 15s 178ms/step - loss: 0.4995 - accuracy: 0.7965 - val_loss: 0.7701 - val_accuracy: 0.6834\n",
      "Epoch 3/100\n",
      "85/85 [==============================] - 15s 182ms/step - loss: 0.1803 - accuracy: 0.9407 - val_loss: 1.0314 - val_accuracy: 0.6996\n",
      "Epoch 4/100\n",
      "85/85 [==============================] - 15s 176ms/step - loss: 0.0508 - accuracy: 0.9849 - val_loss: 1.3033 - val_accuracy: 0.6730\n",
      "Epoch 5/100\n",
      "85/85 [==============================] - 15s 174ms/step - loss: 0.0338 - accuracy: 0.9912 - val_loss: 1.1661 - val_accuracy: 0.6951\n"
     ]
    }
   ],
   "source": [
    "inputs = tf.keras.Input(shape = (train_sequences.shape[1],))\n",
    "x = tf.keras.layers.Embedding(input_dim = 10123,\n",
    "                             output_dim = 128,\n",
    "                             input_length = train_sequences.shape[1])(inputs)\n",
    "x = tf.keras.layers.GRU(256, return_sequences =True, activation = 'tanh')(x)\n",
    "x = tf.keras.layers.Flatten()(x)\n",
    "outputs = tf.keras.layers.Dense(3, activation='softmax')(x)\n",
    "\n",
    "model = tf.keras.Model(inputs=inputs, outputs=outputs)\n",
    "\n",
    "model.compile(optimizer = 'adam',\n",
    "             loss = 'sparse_categorical_crossentropy',\n",
    "             metrics = ['accuracy'])\n",
    "history = model.fit(train_sequences,\n",
    "                   y_train,\n",
    "                   validation_split =  0.2,\n",
    "                   batch_size = 32,\n",
    "                   epochs = 100,\n",
    "                   callbacks = [tf.keras.callbacks.EarlyStopping(monitor = 'val_loss',patience = 3,\n",
    "                                                                 restore_best_weights = True)])"
   ]
  },
  {
   "cell_type": "code",
   "execution_count": 11,
   "id": "9dd477d7",
   "metadata": {
    "execution": {
     "iopub.execute_input": "2022-09-19T16:21:17.123776Z",
     "iopub.status.busy": "2022-09-19T16:21:17.122835Z",
     "iopub.status.idle": "2022-09-19T16:21:39.051881Z",
     "shell.execute_reply": "2022-09-19T16:21:39.050769Z"
    },
    "papermill": {
     "duration": 21.965306,
     "end_time": "2022-09-19T16:21:39.054912",
     "exception": false,
     "start_time": "2022-09-19T16:21:17.089606",
     "status": "completed"
    },
    "tags": []
   },
   "outputs": [
    {
     "name": "stdout",
     "output_type": "stream",
     "text": [
      "Test Losss: 0.69250\n",
      "Test accuracy: 72.62723%\n"
     ]
    }
   ],
   "source": [
    "results = model.evaluate(test_sequences, y_test, verbose =  0)\n",
    "\n",
    "print(\"Test Losss: {:.5f}\".format(results[0]))\n",
    "print(\"Test accuracy: {:.5f}%\".format(results[1]  * 100))"
   ]
  },
  {
   "cell_type": "code",
   "execution_count": null,
   "id": "849ff2c2",
   "metadata": {},
   "outputs": [],
   "source": []
  }
 ],
 "metadata": {
  "kernelspec": {
   "display_name": "Python 3 (ipykernel)",
   "language": "python",
   "name": "python3"
  },
  "language_info": {
   "codemirror_mode": {
    "name": "ipython",
    "version": 3
   },
   "file_extension": ".py",
   "mimetype": "text/x-python",
   "name": "python",
   "nbconvert_exporter": "python",
   "pygments_lexer": "ipython3",
   "version": "3.10.6"
  },
  "papermill": {
   "default_parameters": {},
   "duration": 106.290854,
   "end_time": "2022-09-19T16:21:42.146574",
   "environment_variables": {},
   "exception": null,
   "input_path": "__notebook__.ipynb",
   "output_path": "__notebook__.ipynb",
   "parameters": {},
   "start_time": "2022-09-19T16:19:55.855720",
   "version": "2.3.4"
  }
 },
 "nbformat": 4,
 "nbformat_minor": 5
}
