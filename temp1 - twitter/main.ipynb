{
 "cells": [
  {
   "cell_type": "markdown",
   "id": "12ebf42a",
   "metadata": {
    "papermill": {
     "duration": 0.007948,
     "end_time": "2022-08-31T07:27:55.634248",
     "exception": false,
     "start_time": "2022-08-31T07:27:55.626300",
     "status": "completed"
    },
    "tags": []
   },
   "source": [
    "# Import Libraries"
   ]
  },
  {
   "cell_type": "code",
   "execution_count": 1,
   "id": "fa2f31f7",
   "metadata": {
    "execution": {
     "iopub.execute_input": "2022-08-31T07:27:55.650304Z",
     "iopub.status.busy": "2022-08-31T07:27:55.649640Z",
     "iopub.status.idle": "2022-08-31T07:27:58.007831Z",
     "shell.execute_reply": "2022-08-31T07:27:58.006691Z"
    },
    "papermill": {
     "duration": 2.369917,
     "end_time": "2022-08-31T07:27:58.011080",
     "exception": false,
     "start_time": "2022-08-31T07:27:55.641163",
     "status": "completed"
    },
    "tags": []
   },
   "outputs": [
    {
     "name": "stderr",
     "output_type": "stream",
     "text": [
      "C:\\Users\\ARCHI\\anaconda3\\envs\\project-env\\lib\\site-packages\\scipy\\__init__.py:146: UserWarning: A NumPy version >=1.16.5 and <1.23.0 is required for this version of SciPy (detected version 1.23.1\n",
      "  warnings.warn(f\"A NumPy version >={np_minversion} and <{np_maxversion}\"\n"
     ]
    }
   ],
   "source": [
    "import numpy as np\n",
    "import pandas as pd \n",
    "import time \n",
    "import re\n",
    "\n",
    "from nltk.corpus import stopwords\n",
    "from nltk.tokenize import sent_tokenize, word_tokenize\n",
    "english_stop_words = stopwords.words('english')\n",
    "from sklearn.feature_extraction.text import CountVectorizer\n",
    "from sklearn.feature_extraction.text import TfidfVectorizer\n",
    "\n",
    "from nltk.stem.porter import PorterStemmer\n",
    "from nltk.stem import WordNetLemmatizer\n",
    "\n",
    "\n",
    "#preprocessing\n",
    "from sklearn.model_selection import train_test_split\n",
    "from sklearn.preprocessing import LabelEncoder\n",
    "\n",
    "# machine learning\n",
    "\n",
    "from sklearn.naive_bayes import GaussianNB\n",
    "from sklearn.naive_bayes import MultinomialNB\n",
    "from sklearn.tree import DecisionTreeClassifier\n",
    "from sklearn.ensemble import RandomForestClassifier\n",
    "from sklearn.linear_model import LogisticRegression\n",
    "from sklearn.svm import LinearSVC\n",
    "\n",
    "\n",
    "from sklearn.metrics import classification_report\n",
    "\n",
    "import seaborn as sns\n",
    "sns.set(style ='whitegrid')\n",
    "pd.set_option('display.max_columns',None)\n"
   ]
  },
  {
   "cell_type": "code",
   "execution_count": 2,
   "id": "b63c28a2",
   "metadata": {
    "execution": {
     "iopub.execute_input": "2022-08-31T07:27:58.027410Z",
     "iopub.status.busy": "2022-08-31T07:27:58.026422Z",
     "iopub.status.idle": "2022-08-31T07:27:58.386742Z",
     "shell.execute_reply": "2022-08-31T07:27:58.385443Z"
    },
    "papermill": {
     "duration": 0.371587,
     "end_time": "2022-08-31T07:27:58.389652",
     "exception": false,
     "start_time": "2022-08-31T07:27:58.018065",
     "status": "completed"
    },
    "tags": []
   },
   "outputs": [],
   "source": [
    "headers=['Tweet_ID','Entity','Sentiment','Tweet_content']\n",
    "\n",
    "\n",
    "train_df=pd.read_csv('twitter_training.csv', sep=',', names=headers)\n",
    "\n",
    "valid_df=pd.read_csv('twitter_validation.csv', sep=',', names=headers)"
   ]
  },
  {
   "cell_type": "markdown",
   "id": "23e50252",
   "metadata": {
    "papermill": {
     "duration": 0.006651,
     "end_time": "2022-08-31T07:27:58.403836",
     "exception": false,
     "start_time": "2022-08-31T07:27:58.397185",
     "status": "completed"
    },
    "tags": []
   },
   "source": [
    "# Exploratory Data Analysis"
   ]
  },
  {
   "cell_type": "code",
   "execution_count": 3,
   "id": "366ecb16",
   "metadata": {
    "execution": {
     "iopub.execute_input": "2022-08-31T07:27:58.419500Z",
     "iopub.status.busy": "2022-08-31T07:27:58.418644Z",
     "iopub.status.idle": "2022-08-31T07:27:58.447737Z",
     "shell.execute_reply": "2022-08-31T07:27:58.446792Z"
    },
    "papermill": {
     "duration": 0.039563,
     "end_time": "2022-08-31T07:27:58.450211",
     "exception": false,
     "start_time": "2022-08-31T07:27:58.410648",
     "status": "completed"
    },
    "tags": []
   },
   "outputs": [
    {
     "data": {
      "text/html": [
       "<div>\n",
       "<style scoped>\n",
       "    .dataframe tbody tr th:only-of-type {\n",
       "        vertical-align: middle;\n",
       "    }\n",
       "\n",
       "    .dataframe tbody tr th {\n",
       "        vertical-align: top;\n",
       "    }\n",
       "\n",
       "    .dataframe thead th {\n",
       "        text-align: right;\n",
       "    }\n",
       "</style>\n",
       "<table border=\"1\" class=\"dataframe\">\n",
       "  <thead>\n",
       "    <tr style=\"text-align: right;\">\n",
       "      <th></th>\n",
       "      <th>Tweet_ID</th>\n",
       "      <th>Entity</th>\n",
       "      <th>Sentiment</th>\n",
       "      <th>Tweet_content</th>\n",
       "    </tr>\n",
       "  </thead>\n",
       "  <tbody>\n",
       "    <tr>\n",
       "      <th>7101</th>\n",
       "      <td>9221</td>\n",
       "      <td>Overwatch</td>\n",
       "      <td>Negative</td>\n",
       "      <td>overwatch is trash, finish this game</td>\n",
       "    </tr>\n",
       "    <tr>\n",
       "      <th>14287</th>\n",
       "      <td>2849</td>\n",
       "      <td>Dota2</td>\n",
       "      <td>Negative</td>\n",
       "      <td>@ DOTA2 There is a flaw in the ability design....</td>\n",
       "    </tr>\n",
       "    <tr>\n",
       "      <th>6223</th>\n",
       "      <td>271</td>\n",
       "      <td>Amazon</td>\n",
       "      <td>Neutral</td>\n",
       "      <td>Amazon Translate ranks at.. t.me / techtldr / ...</td>\n",
       "    </tr>\n",
       "    <tr>\n",
       "      <th>71371</th>\n",
       "      <td>11025</td>\n",
       "      <td>TomClancysGhostRecon</td>\n",
       "      <td>Neutral</td>\n",
       "      <td>Shocked, you could climb up there.</td>\n",
       "    </tr>\n",
       "    <tr>\n",
       "      <th>54961</th>\n",
       "      <td>2238</td>\n",
       "      <td>CallOfDuty</td>\n",
       "      <td>Neutral</td>\n",
       "      <td>Call Of Duty WWII ranked Ctf insane comeback c...</td>\n",
       "    </tr>\n",
       "  </tbody>\n",
       "</table>\n",
       "</div>"
      ],
      "text/plain": [
       "       Tweet_ID                Entity Sentiment  \\\n",
       "7101       9221             Overwatch  Negative   \n",
       "14287      2849                 Dota2  Negative   \n",
       "6223        271                Amazon   Neutral   \n",
       "71371     11025  TomClancysGhostRecon   Neutral   \n",
       "54961      2238            CallOfDuty   Neutral   \n",
       "\n",
       "                                           Tweet_content  \n",
       "7101                overwatch is trash, finish this game  \n",
       "14287  @ DOTA2 There is a flaw in the ability design....  \n",
       "6223   Amazon Translate ranks at.. t.me / techtldr / ...  \n",
       "71371                 Shocked, you could climb up there.  \n",
       "54961  Call Of Duty WWII ranked Ctf insane comeback c...  "
      ]
     },
     "execution_count": 3,
     "metadata": {},
     "output_type": "execute_result"
    }
   ],
   "source": [
    "train_df.sample(5)"
   ]
  },
  {
   "cell_type": "code",
   "execution_count": 4,
   "id": "d6010bae",
   "metadata": {
    "execution": {
     "iopub.execute_input": "2022-08-31T07:27:58.466317Z",
     "iopub.status.busy": "2022-08-31T07:27:58.465863Z",
     "iopub.status.idle": "2022-08-31T07:27:58.507067Z",
     "shell.execute_reply": "2022-08-31T07:27:58.505440Z"
    },
    "papermill": {
     "duration": 0.052543,
     "end_time": "2022-08-31T07:27:58.509988",
     "exception": false,
     "start_time": "2022-08-31T07:27:58.457445",
     "status": "completed"
    },
    "tags": []
   },
   "outputs": [
    {
     "name": "stdout",
     "output_type": "stream",
     "text": [
      "<class 'pandas.core.frame.DataFrame'>\n",
      "RangeIndex: 74682 entries, 0 to 74681\n",
      "Data columns (total 4 columns):\n",
      " #   Column         Non-Null Count  Dtype \n",
      "---  ------         --------------  ----- \n",
      " 0   Tweet_ID       74682 non-null  int64 \n",
      " 1   Entity         74682 non-null  object\n",
      " 2   Sentiment      74682 non-null  object\n",
      " 3   Tweet_content  73996 non-null  object\n",
      "dtypes: int64(1), object(3)\n",
      "memory usage: 2.3+ MB\n"
     ]
    }
   ],
   "source": [
    "train_df.info()"
   ]
  },
  {
   "cell_type": "code",
   "execution_count": 5,
   "id": "ed05bd01",
   "metadata": {
    "execution": {
     "iopub.execute_input": "2022-08-31T07:27:58.526549Z",
     "iopub.status.busy": "2022-08-31T07:27:58.526114Z",
     "iopub.status.idle": "2022-08-31T07:27:58.538458Z",
     "shell.execute_reply": "2022-08-31T07:27:58.537099Z"
    },
    "papermill": {
     "duration": 0.023342,
     "end_time": "2022-08-31T07:27:58.540992",
     "exception": false,
     "start_time": "2022-08-31T07:27:58.517650",
     "status": "completed"
    },
    "tags": []
   },
   "outputs": [
    {
     "data": {
      "text/plain": [
       "Negative      22542\n",
       "Positive      20832\n",
       "Neutral       18318\n",
       "Irrelevant    12990\n",
       "Name: Sentiment, dtype: int64"
      ]
     },
     "execution_count": 5,
     "metadata": {},
     "output_type": "execute_result"
    }
   ],
   "source": [
    "train_df['Sentiment'].value_counts()"
   ]
  },
  {
   "cell_type": "code",
   "execution_count": 6,
   "id": "5f2f06c4",
   "metadata": {
    "execution": {
     "iopub.execute_input": "2022-08-31T07:27:58.557372Z",
     "iopub.status.busy": "2022-08-31T07:27:58.556921Z",
     "iopub.status.idle": "2022-08-31T07:27:58.824509Z",
     "shell.execute_reply": "2022-08-31T07:27:58.823555Z"
    },
    "papermill": {
     "duration": 0.278652,
     "end_time": "2022-08-31T07:27:58.826998",
     "exception": false,
     "start_time": "2022-08-31T07:27:58.548346",
     "status": "completed"
    },
    "tags": []
   },
   "outputs": [
    {
     "data": {
      "text/plain": [
       "<AxesSubplot:xlabel='Sentiment', ylabel='count'>"
      ]
     },
     "execution_count": 6,
     "metadata": {},
     "output_type": "execute_result"
    },
    {
     "data": {
      "image/png": "[encoded data removed]",
      "text/plain": [
       "<Figure size 640x480 with 1 Axes>"
      ]
     },
     "metadata": {},
     "output_type": "display_data"
    }
   ],
   "source": [
    "sns.countplot(x=train_df['Sentiment'])"
   ]
  },
  {
   "cell_type": "code",
   "execution_count": 7,
   "id": "e25ff951",
   "metadata": {
    "execution": {
     "iopub.execute_input": "2022-08-31T07:27:58.845429Z",
     "iopub.status.busy": "2022-08-31T07:27:58.844371Z",
     "iopub.status.idle": "2022-08-31T07:27:58.899175Z",
     "shell.execute_reply": "2022-08-31T07:27:58.898061Z"
    },
    "papermill": {
     "duration": 0.06659,
     "end_time": "2022-08-31T07:27:58.901640",
     "exception": false,
     "start_time": "2022-08-31T07:27:58.835050",
     "status": "completed"
    },
    "tags": []
   },
   "outputs": [
    {
     "data": {
      "text/plain": [
       "2700"
      ]
     },
     "execution_count": 7,
     "metadata": {},
     "output_type": "execute_result"
    }
   ],
   "source": [
    "train_df.duplicated().sum()"
   ]
  },
  {
   "cell_type": "code",
   "execution_count": 8,
   "id": "bfcb511f",
   "metadata": {
    "execution": {
     "iopub.execute_input": "2022-08-31T07:27:58.919737Z",
     "iopub.status.busy": "2022-08-31T07:27:58.919283Z",
     "iopub.status.idle": "2022-08-31T07:27:58.970489Z",
     "shell.execute_reply": "2022-08-31T07:27:58.968974Z"
    },
    "papermill": {
     "duration": 0.063854,
     "end_time": "2022-08-31T07:27:58.973512",
     "exception": false,
     "start_time": "2022-08-31T07:27:58.909658",
     "status": "completed"
    },
    "tags": []
   },
   "outputs": [],
   "source": [
    "train_df= train_df.drop_duplicates()"
   ]
  },
  {
   "cell_type": "code",
   "execution_count": 9,
   "id": "2e340da0",
   "metadata": {
    "execution": {
     "iopub.execute_input": "2022-08-31T07:27:58.990760Z",
     "iopub.status.busy": "2022-08-31T07:27:58.990343Z",
     "iopub.status.idle": "2022-08-31T07:27:59.139787Z",
     "shell.execute_reply": "2022-08-31T07:27:59.138154Z"
    },
    "papermill": {
     "duration": 0.162529,
     "end_time": "2022-08-31T07:27:59.143726",
     "exception": false,
     "start_time": "2022-08-31T07:27:58.981197",
     "status": "completed"
    },
    "tags": []
   },
   "outputs": [
    {
     "data": {
      "text/plain": [
       "<AxesSubplot:ylabel='Sentiment'>"
      ]
     },
     "execution_count": 9,
     "metadata": {},
     "output_type": "execute_result"
    },
    {
     "data": {
      "image/png": "[encoded data removed]",
      "text/plain": [
       "<Figure size 500x500 with 1 Axes>"
      ]
     },
     "metadata": {},
     "output_type": "display_data"
    }
   ],
   "source": [
    "train_df.Sentiment.value_counts().plot(kind='pie', autopct='%1.0f%%',figsize=(5,5),colors=[\"red\", \"yellow\", \"green\",'blue'])\n"
   ]
  },
  {
   "cell_type": "code",
   "execution_count": 10,
   "id": "1e4b07ed",
   "metadata": {
    "execution": {
     "iopub.execute_input": "2022-08-31T07:27:59.172253Z",
     "iopub.status.busy": "2022-08-31T07:27:59.171671Z",
     "iopub.status.idle": "2022-08-31T07:28:00.054687Z",
     "shell.execute_reply": "2022-08-31T07:28:00.053345Z"
    },
    "papermill": {
     "duration": 0.900377,
     "end_time": "2022-08-31T07:28:00.057688",
     "exception": false,
     "start_time": "2022-08-31T07:27:59.157311",
     "status": "completed"
    },
    "tags": []
   },
   "outputs": [
    {
     "data": {
      "text/plain": [
       "<AxesSubplot:xlabel='Entity'>"
      ]
     },
     "execution_count": 10,
     "metadata": {},
     "output_type": "execute_result"
    },
    {
     "data": {
      "image/png": "[encoded data removed]",
      "text/plain": [
       "<Figure size 2000x1000 with 1 Axes>"
      ]
     },
     "metadata": {},
     "output_type": "display_data"
    }
   ],
   "source": [
    "Twitter_sentiment = train_df.groupby(['Entity', 'Sentiment']).Sentiment.count().unstack()\n",
    "Twitter_sentiment.plot(kind='bar',figsize=(20,10))"
   ]
  },
  {
   "cell_type": "markdown",
   "id": "2744595e",
   "metadata": {
    "papermill": {
     "duration": 0.009101,
     "end_time": "2022-08-31T07:28:00.076245",
     "exception": false,
     "start_time": "2022-08-31T07:28:00.067144",
     "status": "completed"
    },
    "tags": []
   },
   "source": [
    "# Data Cleaning"
   ]
  },
  {
   "cell_type": "code",
   "execution_count": 11,
   "id": "fa487528",
   "metadata": {
    "execution": {
     "iopub.execute_input": "2022-08-31T07:28:00.096866Z",
     "iopub.status.busy": "2022-08-31T07:28:00.096423Z",
     "iopub.status.idle": "2022-08-31T07:28:00.123249Z",
     "shell.execute_reply": "2022-08-31T07:28:00.121813Z"
    },
    "papermill": {
     "duration": 0.040501,
     "end_time": "2022-08-31T07:28:00.126206",
     "exception": false,
     "start_time": "2022-08-31T07:28:00.085705",
     "status": "completed"
    },
    "tags": []
   },
   "outputs": [],
   "source": [
    "# encoder for target feature\n",
    "from sklearn import preprocessing\n",
    "lb = preprocessing.LabelEncoder()\n",
    "train_df['Sentiment']=lb.fit_transform(train_df['Sentiment'])"
   ]
  },
  {
   "cell_type": "code",
   "execution_count": 12,
   "id": "d047eb98",
   "metadata": {
    "execution": {
     "iopub.execute_input": "2022-08-31T07:28:00.148324Z",
     "iopub.status.busy": "2022-08-31T07:28:00.147572Z",
     "iopub.status.idle": "2022-08-31T07:28:00.161070Z",
     "shell.execute_reply": "2022-08-31T07:28:00.159817Z"
    },
    "papermill": {
     "duration": 0.027747,
     "end_time": "2022-08-31T07:28:00.163789",
     "exception": false,
     "start_time": "2022-08-31T07:28:00.136042",
     "status": "completed"
    },
    "tags": []
   },
   "outputs": [
    {
     "data": {
      "text/plain": [
       "326"
      ]
     },
     "execution_count": 12,
     "metadata": {},
     "output_type": "execute_result"
    }
   ],
   "source": [
    "train_df['Tweet_content'].isnull().sum()"
   ]
  },
  {
   "cell_type": "code",
   "execution_count": 13,
   "id": "8857475c",
   "metadata": {
    "execution": {
     "iopub.execute_input": "2022-08-31T07:28:00.185324Z",
     "iopub.status.busy": "2022-08-31T07:28:00.184194Z",
     "iopub.status.idle": "2022-08-31T07:28:00.208195Z",
     "shell.execute_reply": "2022-08-31T07:28:00.206910Z"
    },
    "papermill": {
     "duration": 0.037653,
     "end_time": "2022-08-31T07:28:00.210998",
     "exception": false,
     "start_time": "2022-08-31T07:28:00.173345",
     "status": "completed"
    },
    "tags": []
   },
   "outputs": [],
   "source": [
    "train_df.dropna(axis=0, inplace=True)"
   ]
  },
  {
   "cell_type": "code",
   "execution_count": 14,
   "id": "65395ae8",
   "metadata": {
    "execution": {
     "iopub.execute_input": "2022-08-31T07:28:00.232054Z",
     "iopub.status.busy": "2022-08-31T07:28:00.231298Z",
     "iopub.status.idle": "2022-08-31T07:28:00.238040Z",
     "shell.execute_reply": "2022-08-31T07:28:00.236970Z"
    },
    "papermill": {
     "duration": 0.019893,
     "end_time": "2022-08-31T07:28:00.240472",
     "exception": false,
     "start_time": "2022-08-31T07:28:00.220579",
     "status": "completed"
    },
    "tags": []
   },
   "outputs": [],
   "source": [
    "tweet_train  = train_df[\"Tweet_content\"]\n",
    "tweet_valid=valid_df[\"Tweet_content\"]\n",
    "target=train_df['Sentiment']"
   ]
  },
  {
   "cell_type": "markdown",
   "id": "7460a607",
   "metadata": {
    "papermill": {
     "duration": 0.009351,
     "end_time": "2022-08-31T07:28:00.259339",
     "exception": false,
     "start_time": "2022-08-31T07:28:00.249988",
     "status": "completed"
    },
    "tags": []
   },
   "source": [
    "# Step (1): Remove Additional Letter such as @"
   ]
  },
  {
   "cell_type": "code",
   "execution_count": 15,
   "id": "3595c486",
   "metadata": {
    "execution": {
     "iopub.execute_input": "2022-08-31T07:28:00.280890Z",
     "iopub.status.busy": "2022-08-31T07:28:00.280324Z",
     "iopub.status.idle": "2022-08-31T07:28:00.364482Z",
     "shell.execute_reply": "2022-08-31T07:28:00.363318Z"
    },
    "papermill": {
     "duration": 0.097974,
     "end_time": "2022-08-31T07:28:00.367200",
     "exception": false,
     "start_time": "2022-08-31T07:28:00.269226",
     "status": "completed"
    },
    "tags": []
   },
   "outputs": [],
   "source": [
    "REPLACE_WITH_SPACE = re.compile(\"(@)\")\n",
    "SPACE = \" \"\n",
    "\n",
    "def preprocess_reviews(reviews):  \n",
    "    reviews = [REPLACE_WITH_SPACE.sub(SPACE, line.lower()) for line in reviews]\n",
    "    \n",
    "    return reviews\n",
    "\n",
    "reviews_train_clean = preprocess_reviews(tweet_train)\n",
    "reviews_valid_clean = preprocess_reviews(tweet_valid)"
   ]
  },
  {
   "cell_type": "markdown",
   "id": "e95a974e",
   "metadata": {
    "papermill": {
     "duration": 0.009285,
     "end_time": "2022-08-31T07:28:00.385977",
     "exception": false,
     "start_time": "2022-08-31T07:28:00.376692",
     "status": "completed"
    },
    "tags": []
   },
   "source": [
    "# Step (2): Remove Stop Words"
   ]
  },
  {
   "cell_type": "code",
   "execution_count": 16,
   "id": "9fd610f8",
   "metadata": {
    "execution": {
     "iopub.execute_input": "2022-08-31T07:28:00.406987Z",
     "iopub.status.busy": "2022-08-31T07:28:00.406574Z",
     "iopub.status.idle": "2022-08-31T07:28:03.856740Z",
     "shell.execute_reply": "2022-08-31T07:28:03.855311Z"
    },
    "papermill": {
     "duration": 3.464043,
     "end_time": "2022-08-31T07:28:03.859729",
     "exception": false,
     "start_time": "2022-08-31T07:28:00.395686",
     "status": "completed"
    },
    "tags": []
   },
   "outputs": [],
   "source": [
    "def remove_stop_words(corpus):\n",
    "    removed_stop_words = []\n",
    "    for review in corpus:\n",
    "        removed_stop_words.append(\n",
    "            ' '.join([word for word in review.split()  if word not in english_stop_words]))\n",
    "    return removed_stop_words\n",
    "\n",
    "no_stop_words_train = remove_stop_words(reviews_train_clean)\n",
    "no_stop_words_valid = remove_stop_words(reviews_valid_clean)"
   ]
  },
  {
   "cell_type": "markdown",
   "id": "6177ed7a",
   "metadata": {
    "papermill": {
     "duration": 0.009263,
     "end_time": "2022-08-31T07:28:03.879717",
     "exception": false,
     "start_time": "2022-08-31T07:28:03.870454",
     "status": "completed"
    },
    "tags": []
   },
   "source": [
    "# Step(3) : Stemming"
   ]
  },
  {
   "cell_type": "code",
   "execution_count": 17,
   "id": "2dd60d9f",
   "metadata": {
    "execution": {
     "iopub.execute_input": "2022-08-31T07:28:03.900589Z",
     "iopub.status.busy": "2022-08-31T07:28:03.900158Z",
     "iopub.status.idle": "2022-08-31T07:28:26.448263Z",
     "shell.execute_reply": "2022-08-31T07:28:26.446915Z"
    },
    "papermill": {
     "duration": 22.562079,
     "end_time": "2022-08-31T07:28:26.451180",
     "exception": false,
     "start_time": "2022-08-31T07:28:03.889101",
     "status": "completed"
    },
    "tags": []
   },
   "outputs": [],
   "source": [
    "def get_stemmed_text(corpus):\n",
    "    stemmer = PorterStemmer()\n",
    "    return [' '.join([stemmer.stem(word) for word in review.split()]) for review in corpus]\n",
    "\n",
    "stemmed_reviews_train = get_stemmed_text(no_stop_words_train)\n",
    "stemmed_reviews_test = get_stemmed_text(no_stop_words_valid)"
   ]
  },
  {
   "cell_type": "markdown",
   "id": "1e5e7e2b",
   "metadata": {
    "papermill": {
     "duration": 0.009384,
     "end_time": "2022-08-31T07:28:26.470723",
     "exception": false,
     "start_time": "2022-08-31T07:28:26.461339",
     "status": "completed"
    },
    "tags": []
   },
   "source": [
    "# Step(4) : TF-IDF"
   ]
  },
  {
   "cell_type": "code",
   "execution_count": 18,
   "id": "e3ec646f",
   "metadata": {
    "execution": {
     "iopub.execute_input": "2022-08-31T07:28:26.491780Z",
     "iopub.status.busy": "2022-08-31T07:28:26.491000Z",
     "iopub.status.idle": "2022-08-31T07:28:28.455497Z",
     "shell.execute_reply": "2022-08-31T07:28:28.454094Z"
    },
    "papermill": {
     "duration": 1.978048,
     "end_time": "2022-08-31T07:28:28.458283",
     "exception": false,
     "start_time": "2022-08-31T07:28:26.480235",
     "status": "completed"
    },
    "tags": []
   },
   "outputs": [],
   "source": [
    "tfidf_vectorizer = TfidfVectorizer()\n",
    "tfidf_vectorizer.fit(stemmed_reviews_train)\n",
    "X = tfidf_vectorizer.transform(stemmed_reviews_train)\n",
    "X_test = tfidf_vectorizer.transform(stemmed_reviews_test)"
   ]
  },
  {
   "cell_type": "markdown",
   "id": "6a6c6741",
   "metadata": {
    "papermill": {
     "duration": 0.009366,
     "end_time": "2022-08-31T07:28:28.477607",
     "exception": false,
     "start_time": "2022-08-31T07:28:28.468241",
     "status": "completed"
    },
    "tags": []
   },
   "source": [
    "# Step(5) : Spliting Data "
   ]
  },
  {
   "cell_type": "code",
   "execution_count": 19,
   "id": "cfdee33f",
   "metadata": {
    "execution": {
     "iopub.execute_input": "2022-08-31T07:28:28.499470Z",
     "iopub.status.busy": "2022-08-31T07:28:28.499044Z",
     "iopub.status.idle": "2022-08-31T07:28:28.517228Z",
     "shell.execute_reply": "2022-08-31T07:28:28.515823Z"
    },
    "papermill": {
     "duration": 0.03216,
     "end_time": "2022-08-31T07:28:28.520060",
     "exception": false,
     "start_time": "2022-08-31T07:28:28.487900",
     "status": "completed"
    },
    "tags": []
   },
   "outputs": [],
   "source": [
    "X_train, X_val, y_train, y_val = train_test_split(X, target, train_size = 0.75)"
   ]
  },
  {
   "cell_type": "markdown",
   "id": "3d1a85b3",
   "metadata": {
    "papermill": {
     "duration": 0.009323,
     "end_time": "2022-08-31T07:28:28.539157",
     "exception": false,
     "start_time": "2022-08-31T07:28:28.529834",
     "status": "completed"
    },
    "tags": []
   },
   "source": [
    "# Step(6) : Random Forest Model"
   ]
  },
  {
   "cell_type": "code",
   "execution_count": 41,
   "id": "ee26e057",
   "metadata": {
    "execution": {
     "iopub.execute_input": "2022-08-31T07:28:28.560123Z",
     "iopub.status.busy": "2022-08-31T07:28:28.559733Z",
     "iopub.status.idle": "2022-08-31T07:50:59.821876Z",
     "shell.execute_reply": "2022-08-31T07:50:59.820154Z"
    },
    "papermill": {
     "duration": 1351.284969,
     "end_time": "2022-08-31T07:50:59.833708",
     "exception": false,
     "start_time": "2022-08-31T07:28:28.548739",
     "status": "completed"
    },
    "tags": []
   },
   "outputs": [
    {
     "name": "stdout",
     "output_type": "stream",
     "text": [
      "              precision    recall  f1-score   support\n",
      "\n",
      "           0       0.97      0.85      0.90      3114\n",
      "           1       0.92      0.93      0.93      5434\n",
      "           2       0.93      0.90      0.91      4512\n",
      "           3       0.85      0.94      0.89      4854\n",
      "\n",
      "    accuracy                           0.91     17914\n",
      "   macro avg       0.92      0.90      0.91     17914\n",
      "weighted avg       0.91      0.91      0.91     17914\n",
      "\n"
     ]
    }
   ],
   "source": [
    "text_classifier = RandomForestClassifier(n_estimators=300, random_state=0)\n",
    "text_classifier.fit(X_train, y_train)\n",
    "\n",
    "y_pred=text_classifier.predict(X_val)\n",
    "print(classification_report(y_val,y_pred))"
   ]
  },
  {
   "cell_type": "markdown",
   "id": "aed7ac70",
   "metadata": {
    "papermill": {
     "duration": 0.009339,
     "end_time": "2022-08-31T07:50:59.853489",
     "exception": false,
     "start_time": "2022-08-31T07:50:59.844150",
     "status": "completed"
    },
    "tags": []
   },
   "source": [
    "# XGBoost Model"
   ]
  },
  {
   "cell_type": "code",
   "execution_count": 25,
   "id": "ce1c774b",
   "metadata": {},
   "outputs": [],
   "source": [
    "import xgboost as xgb"
   ]
  },
  {
   "cell_type": "code",
   "execution_count": 26,
   "id": "232da26e",
   "metadata": {},
   "outputs": [
    {
     "name": "stdout",
     "output_type": "stream",
     "text": [
      "[19:10:14] WARNING: ..\\src\\learner.cc:1115: Starting in XGBoost 1.3.0, the default evaluation metric used with the objective 'multi:softprob' was changed from 'merror' to 'mlogloss'. Explicitly set eval_metric if you'd like to restore the old behavior.\n"
     ]
    },
    {
     "data": {
      "text/plain": [
       "XGBClassifier(base_score=0.5, booster='gbtree', colsample_bylevel=1,\n",
       "              colsample_bynode=1, colsample_bytree=1, enable_categorical=False,\n",
       "              gamma=0, gpu_id=-1, importance_type=None,\n",
       "              interaction_constraints='', learning_rate=0.300000012,\n",
       "              max_delta_step=0, max_depth=6, min_child_weight=1, missing=nan,\n",
       "              monotone_constraints='()', n_estimators=100, n_jobs=8,\n",
       "              num_parallel_tree=1, objective='multi:softprob', predictor='auto',\n",
       "              random_state=0, reg_alpha=0, reg_lambda=1, scale_pos_weight=None,\n",
       "              subsample=1, tree_method='exact', validate_parameters=1,\n",
       "              verbosity=None)"
      ]
     },
     "execution_count": 26,
     "metadata": {},
     "output_type": "execute_result"
    }
   ],
   "source": [
    "xgb_model = xgb.XGBClassifier()\n",
    "xgb_model.fit(X_train, y_train)"
   ]
  },
  {
   "cell_type": "code",
   "execution_count": 33,
   "id": "41d9aa5e",
   "metadata": {},
   "outputs": [],
   "source": [
    "y_pred = xgb_model.predict(X_train)"
   ]
  },
  {
   "cell_type": "code",
   "execution_count": 34,
   "id": "7617b42a",
   "metadata": {},
   "outputs": [
    {
     "name": "stdout",
     "output_type": "stream",
     "text": [
      "              precision    recall  f1-score   support\n",
      "\n",
      "           0       0.85      0.48      0.61      9423\n",
      "           1       0.64      0.89      0.75     16264\n",
      "           2       0.80      0.65      0.71     13196\n",
      "           3       0.73      0.75      0.74     14859\n",
      "\n",
      "    accuracy                           0.72     53742\n",
      "   macro avg       0.75      0.69      0.70     53742\n",
      "weighted avg       0.74      0.72      0.71     53742\n",
      "\n"
     ]
    }
   ],
   "source": [
    "print(classification_report(y_train, y_pred))"
   ]
  },
  {
   "cell_type": "markdown",
   "id": "9c249b53",
   "metadata": {},
   "source": [
    "# KNN Model"
   ]
  },
  {
   "cell_type": "code",
   "execution_count": 35,
   "id": "35193f65",
   "metadata": {},
   "outputs": [],
   "source": [
    "from sklearn.neighbors import KNeighborsClassifier"
   ]
  },
  {
   "cell_type": "code",
   "execution_count": 36,
   "id": "10a2e9c7",
   "metadata": {},
   "outputs": [],
   "source": [
    "knn = KNeighborsClassifier(n_neighbors=11)"
   ]
  },
  {
   "cell_type": "code",
   "execution_count": 37,
   "id": "1868f0ea",
   "metadata": {},
   "outputs": [
    {
     "data": {
      "text/plain": [
       "KNeighborsClassifier(n_neighbors=11)"
      ]
     },
     "execution_count": 37,
     "metadata": {},
     "output_type": "execute_result"
    }
   ],
   "source": [
    "knn.fit(X_train, y_train)"
   ]
  },
  {
   "cell_type": "code",
   "execution_count": 40,
   "id": "adc4043b",
   "metadata": {},
   "outputs": [
    {
     "data": {
      "text/plain": [
       "0.7650999218488334"
      ]
     },
     "execution_count": 40,
     "metadata": {},
     "output_type": "execute_result"
    }
   ],
   "source": [
    "knn.score(X_val, y_val)"
   ]
  },
  {
   "cell_type": "code",
   "execution_count": null,
   "id": "bed71fcd",
   "metadata": {},
   "outputs": [],
   "source": []
  }
 ],
 "metadata": {
  "kernelspec": {
   "display_name": "venv",
   "language": "python",
   "name": "python3"
  },
  "language_info": {
   "codemirror_mode": {
    "name": "ipython",
    "version": 3
   },
   "file_extension": ".py",
   "mimetype": "text/x-python",
   "name": "python",
   "nbconvert_exporter": "python",
   "pygments_lexer": "ipython3",
   "version": "3.10.6"
  },
  "papermill": {
   "default_parameters": {},
   "duration": 1395.408348,
   "end_time": "2022-08-31T07:51:00.990108",
   "environment_variables": {},
   "exception": null,
   "input_path": "__notebook__.ipynb",
   "output_path": "__notebook__.ipynb",
   "parameters": {},
   "start_time": "2022-08-31T07:27:45.581760",
   "version": "2.3.4"
  },
  "vscode": {
   "interpreter": {
    "hash": "393076957b987dd8798d7365ff68637158f710fd64781acf09ece82f0fd87d73"
   }
  }
 },
 "nbformat": 4,
 "nbformat_minor": 5
}
