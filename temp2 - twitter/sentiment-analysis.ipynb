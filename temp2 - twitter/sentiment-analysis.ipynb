{
 "cells": [
  {
   "cell_type": "markdown",
   "id": "69842879",
   "metadata": {},
   "source": [
    "# Importing Libraries"
   ]
  },
  {
   "cell_type": "code",
   "execution_count": 1,
   "id": "efa08478",
   "metadata": {
    "_cell_guid": "b1076dfc-b9ad-4769-8c92-a6c4dae69d19",
    "_uuid": "8f2839f25d086af736a60e9eeb907d3b93b6e0e5",
    "execution": {
     "iopub.execute_input": "2022-09-18T16:53:19.200931Z",
     "iopub.status.busy": "2022-09-18T16:53:19.200380Z",
     "iopub.status.idle": "2022-09-18T16:53:19.221984Z",
     "shell.execute_reply": "2022-09-18T16:53:19.221076Z"
    },
    "papermill": {
     "duration": 0.0349,
     "end_time": "2022-09-18T16:53:19.224367",
     "exception": false,
     "start_time": "2022-09-18T16:53:19.189467",
     "status": "completed"
    },
    "tags": []
   },
   "outputs": [
    {
     "name": "stderr",
     "output_type": "stream",
     "text": [
      "C:\\Users\\ARCHI\\anaconda3\\envs\\project-env\\lib\\site-packages\\scipy\\__init__.py:146: UserWarning: A NumPy version >=1.16.5 and <1.23.0 is required for this version of SciPy (detected version 1.23.1\n",
      "  warnings.warn(f\"A NumPy version >={np_minversion} and <{np_maxversion}\"\n"
     ]
    }
   ],
   "source": [
    "import numpy as np\n",
    "import pandas as pd\n",
    "import nltk"
   ]
  },
  {
   "cell_type": "code",
   "execution_count": 2,
   "id": "2b7cb55f",
   "metadata": {
    "execution": {
     "iopub.execute_input": "2022-09-18T16:53:21.114183Z",
     "iopub.status.busy": "2022-09-18T16:53:21.113874Z",
     "iopub.status.idle": "2022-09-18T16:53:25.829538Z",
     "shell.execute_reply": "2022-09-18T16:53:25.828575Z"
    },
    "papermill": {
     "duration": 4.726695,
     "end_time": "2022-09-18T16:53:25.832204",
     "exception": false,
     "start_time": "2022-09-18T16:53:21.105509",
     "status": "completed"
    },
    "tags": []
   },
   "outputs": [],
   "source": [
    "import tensorflow as tf\n",
    "import seaborn as sns\n",
    "from sklearn.utils import shuffle\n",
    "import re\n",
    "from nltk.corpus import stopwords\n",
    "from nltk.stem.porter import PorterStemmer\n",
    "from nltk.stem import WordNetLemmatizer\n",
    "ps = PorterStemmer()\n",
    "\n",
    "import warnings\n",
    "warnings.filterwarnings(\"ignore\")"
   ]
  },
  {
   "cell_type": "markdown",
   "id": "c4997d1c",
   "metadata": {},
   "source": [
    "# Reading and Analysing Data"
   ]
  },
  {
   "cell_type": "code",
   "execution_count": 3,
   "id": "65f146b0",
   "metadata": {
    "execution": {
     "iopub.execute_input": "2022-09-18T16:53:25.848510Z",
     "iopub.status.busy": "2022-09-18T16:53:25.847990Z",
     "iopub.status.idle": "2022-09-18T16:53:26.164732Z",
     "shell.execute_reply": "2022-09-18T16:53:26.163806Z"
    },
    "papermill": {
     "duration": 0.327342,
     "end_time": "2022-09-18T16:53:26.167121",
     "exception": false,
     "start_time": "2022-09-18T16:53:25.839779",
     "status": "completed"
    },
    "tags": []
   },
   "outputs": [],
   "source": [
    "tweets = pd.read_csv('twitter_training.csv')\n",
    "tweets_val = pd.read_csv('twitter_validation.csv')"
   ]
  },
  {
   "cell_type": "code",
   "execution_count": 4,
   "id": "4a138414",
   "metadata": {
    "execution": {
     "iopub.execute_input": "2022-09-18T16:53:26.183361Z",
     "iopub.status.busy": "2022-09-18T16:53:26.183016Z",
     "iopub.status.idle": "2022-09-18T16:53:26.215079Z",
     "shell.execute_reply": "2022-09-18T16:53:26.213995Z"
    },
    "papermill": {
     "duration": 0.042955,
     "end_time": "2022-09-18T16:53:26.217645",
     "exception": false,
     "start_time": "2022-09-18T16:53:26.174690",
     "status": "completed"
    },
    "tags": []
   },
   "outputs": [
    {
     "data": {
      "text/html": [
       "<div>\n",
       "<style scoped>\n",
       "    .dataframe tbody tr th:only-of-type {\n",
       "        vertical-align: middle;\n",
       "    }\n",
       "\n",
       "    .dataframe tbody tr th {\n",
       "        vertical-align: top;\n",
       "    }\n",
       "\n",
       "    .dataframe thead th {\n",
       "        text-align: right;\n",
       "    }\n",
       "</style>\n",
       "<table border=\"1\" class=\"dataframe\">\n",
       "  <thead>\n",
       "    <tr style=\"text-align: right;\">\n",
       "      <th></th>\n",
       "      <th>2401</th>\n",
       "      <th>Borderlands</th>\n",
       "      <th>Positive</th>\n",
       "      <th>im getting on borderlands and i will murder you all ,</th>\n",
       "    </tr>\n",
       "  </thead>\n",
       "  <tbody>\n",
       "    <tr>\n",
       "      <th>54197</th>\n",
       "      <td>2111</td>\n",
       "      <td>CallOfDuty</td>\n",
       "      <td>Irrelevant</td>\n",
       "      <td>They wanted to talk shit before game so ill ta...</td>\n",
       "    </tr>\n",
       "    <tr>\n",
       "      <th>53995</th>\n",
       "      <td>2077</td>\n",
       "      <td>CallOfDuty</td>\n",
       "      <td>Negative</td>\n",
       "      <td>THAT IS, POZDRAVLYAETSя!!!!!.....................</td>\n",
       "    </tr>\n",
       "    <tr>\n",
       "      <th>12624</th>\n",
       "      <td>8570</td>\n",
       "      <td>NBA2K</td>\n",
       "      <td>Negative</td>\n",
       "      <td>Aye why @ NBA2K _ MyTEAM give @ mikal _ bridge...</td>\n",
       "    </tr>\n",
       "    <tr>\n",
       "      <th>74615</th>\n",
       "      <td>9190</td>\n",
       "      <td>Nvidia</td>\n",
       "      <td>Positive</td>\n",
       "      <td>This news about the Nvidia 3000 series is ligi...</td>\n",
       "    </tr>\n",
       "    <tr>\n",
       "      <th>17555</th>\n",
       "      <td>9811</td>\n",
       "      <td>PlayStation5(PS5)</td>\n",
       "      <td>Irrelevant</td>\n",
       "      <td>So your tellin me that the 737 Aircraft won’t ...</td>\n",
       "    </tr>\n",
       "  </tbody>\n",
       "</table>\n",
       "</div>"
      ],
      "text/plain": [
       "       2401        Borderlands    Positive  \\\n",
       "54197  2111         CallOfDuty  Irrelevant   \n",
       "53995  2077         CallOfDuty    Negative   \n",
       "12624  8570              NBA2K    Negative   \n",
       "74615  9190             Nvidia    Positive   \n",
       "17555  9811  PlayStation5(PS5)  Irrelevant   \n",
       "\n",
       "      im getting on borderlands and i will murder you all ,  \n",
       "54197  They wanted to talk shit before game so ill ta...     \n",
       "53995  THAT IS, POZDRAVLYAETSя!!!!!.....................     \n",
       "12624  Aye why @ NBA2K _ MyTEAM give @ mikal _ bridge...     \n",
       "74615  This news about the Nvidia 3000 series is ligi...     \n",
       "17555  So your tellin me that the 737 Aircraft won’t ...     "
      ]
     },
     "execution_count": 4,
     "metadata": {},
     "output_type": "execute_result"
    }
   ],
   "source": [
    "tweets = shuffle(tweets)\n",
    "tweets.head()"
   ]
  },
  {
   "cell_type": "code",
   "execution_count": 5,
   "id": "2ca70c3e",
   "metadata": {
    "execution": {
     "iopub.execute_input": "2022-09-18T16:53:26.235376Z",
     "iopub.status.busy": "2022-09-18T16:53:26.235070Z",
     "iopub.status.idle": "2022-09-18T16:53:26.250992Z",
     "shell.execute_reply": "2022-09-18T16:53:26.249562Z"
    },
    "papermill": {
     "duration": 0.026981,
     "end_time": "2022-09-18T16:53:26.253554",
     "exception": false,
     "start_time": "2022-09-18T16:53:26.226573",
     "status": "completed"
    },
    "tags": []
   },
   "outputs": [
    {
     "name": "stdout",
     "output_type": "stream",
     "text": [
      "Shape: (74681, 4)\n",
      "Target Classes:  ['Irrelevant' 'Negative' 'Positive' 'Neutral']\n"
     ]
    }
   ],
   "source": [
    "print(\"Shape:\" ,tweets.shape)\n",
    "print(\"Target Classes: \",tweets['Positive'].unique())"
   ]
  },
  {
   "cell_type": "code",
   "execution_count": 6,
   "id": "c65ea861",
   "metadata": {
    "execution": {
     "iopub.execute_input": "2022-09-18T16:53:26.270488Z",
     "iopub.status.busy": "2022-09-18T16:53:26.270194Z",
     "iopub.status.idle": "2022-09-18T16:53:26.284638Z",
     "shell.execute_reply": "2022-09-18T16:53:26.283798Z"
    },
    "papermill": {
     "duration": 0.025475,
     "end_time": "2022-09-18T16:53:26.287022",
     "exception": false,
     "start_time": "2022-09-18T16:53:26.261547",
     "status": "completed"
    },
    "tags": []
   },
   "outputs": [],
   "source": [
    "tweets = tweets[tweets['Positive'] != \"Irrelevant\"]"
   ]
  },
  {
   "cell_type": "code",
   "execution_count": 7,
   "id": "0024cede",
   "metadata": {
    "execution": {
     "iopub.execute_input": "2022-09-18T16:53:26.304222Z",
     "iopub.status.busy": "2022-09-18T16:53:26.303392Z",
     "iopub.status.idle": "2022-09-18T16:53:26.330935Z",
     "shell.execute_reply": "2022-09-18T16:53:26.329879Z"
    },
    "papermill": {
     "duration": 0.039188,
     "end_time": "2022-09-18T16:53:26.334020",
     "exception": false,
     "start_time": "2022-09-18T16:53:26.294832",
     "status": "completed"
    },
    "tags": []
   },
   "outputs": [
    {
     "name": "stdout",
     "output_type": "stream",
     "text": [
      "Length of Negative=22542\n",
      "Length of Positive=20831\n",
      "Length of Neutral=18318\n"
     ]
    }
   ],
   "source": [
    "for i in tweets['Positive'].unique():\n",
    "    print(f'Length of {i}={len(tweets[tweets[\"Positive\"] == str(i)])}')"
   ]
  },
  {
   "cell_type": "code",
   "execution_count": 25,
   "id": "8d06668c",
   "metadata": {},
   "outputs": [],
   "source": [
    "df = pd.DataFrame(tweets['Positive'])"
   ]
  },
  {
   "cell_type": "code",
   "execution_count": 26,
   "id": "da932047",
   "metadata": {
    "execution": {
     "iopub.execute_input": "2022-09-18T16:53:26.352959Z",
     "iopub.status.busy": "2022-09-18T16:53:26.351352Z",
     "iopub.status.idle": "2022-09-18T16:53:26.592455Z",
     "shell.execute_reply": "2022-09-18T16:53:26.591462Z"
    },
    "papermill": {
     "duration": 0.252037,
     "end_time": "2022-09-18T16:53:26.594817",
     "exception": false,
     "start_time": "2022-09-18T16:53:26.342780",
     "status": "completed"
    },
    "tags": []
   },
   "outputs": [
    {
     "data": {
      "text/plain": [
       "<AxesSubplot:xlabel='Positive', ylabel='count'>"
      ]
     },
     "execution_count": 26,
     "metadata": {},
     "output_type": "execute_result"
    },
    {
     "data": {
      "image/png": "[encoded data removed]",
      "text/plain": [
       "<Figure size 640x480 with 1 Axes>"
      ]
     },
     "metadata": {},
     "output_type": "display_data"
    }
   ],
   "source": [
    "sns.countplot(x='Positive', data=df)"
   ]
  },
  {
   "cell_type": "code",
   "execution_count": 27,
   "id": "f10e1a89",
   "metadata": {
    "execution": {
     "iopub.execute_input": "2022-09-18T16:53:26.613874Z",
     "iopub.status.busy": "2022-09-18T16:53:26.612229Z",
     "iopub.status.idle": "2022-09-18T16:53:26.621422Z",
     "shell.execute_reply": "2022-09-18T16:53:26.620462Z"
    },
    "papermill": {
     "duration": 0.020417,
     "end_time": "2022-09-18T16:53:26.623431",
     "exception": false,
     "start_time": "2022-09-18T16:53:26.603014",
     "status": "completed"
    },
    "tags": []
   },
   "outputs": [],
   "source": [
    "tweets = tweets[['Positive','im getting on borderlands and i will murder you all ,']]"
   ]
  },
  {
   "cell_type": "code",
   "execution_count": 28,
   "id": "32ad9bc8",
   "metadata": {
    "execution": {
     "iopub.execute_input": "2022-09-18T16:53:26.642132Z",
     "iopub.status.busy": "2022-09-18T16:53:26.640572Z",
     "iopub.status.idle": "2022-09-18T16:53:26.647022Z",
     "shell.execute_reply": "2022-09-18T16:53:26.646172Z"
    },
    "papermill": {
     "duration": 0.017464,
     "end_time": "2022-09-18T16:53:26.648993",
     "exception": false,
     "start_time": "2022-09-18T16:53:26.631529",
     "status": "completed"
    },
    "tags": []
   },
   "outputs": [],
   "source": [
    "tweets.rename(columns={'Positive':\"Sentiment\",'im getting on borderlands and i will murder you all ,':'text'},inplace=True)"
   ]
  },
  {
   "cell_type": "code",
   "execution_count": 29,
   "id": "c1af99ce",
   "metadata": {
    "execution": {
     "iopub.execute_input": "2022-09-18T16:53:26.667650Z",
     "iopub.status.busy": "2022-09-18T16:53:26.665987Z",
     "iopub.status.idle": "2022-09-18T16:53:26.676034Z",
     "shell.execute_reply": "2022-09-18T16:53:26.675108Z"
    },
    "papermill": {
     "duration": 0.020983,
     "end_time": "2022-09-18T16:53:26.678014",
     "exception": false,
     "start_time": "2022-09-18T16:53:26.657031",
     "status": "completed"
    },
    "tags": []
   },
   "outputs": [
    {
     "data": {
      "text/html": [
       "<div>\n",
       "<style scoped>\n",
       "    .dataframe tbody tr th:only-of-type {\n",
       "        vertical-align: middle;\n",
       "    }\n",
       "\n",
       "    .dataframe tbody tr th {\n",
       "        vertical-align: top;\n",
       "    }\n",
       "\n",
       "    .dataframe thead th {\n",
       "        text-align: right;\n",
       "    }\n",
       "</style>\n",
       "<table border=\"1\" class=\"dataframe\">\n",
       "  <thead>\n",
       "    <tr style=\"text-align: right;\">\n",
       "      <th></th>\n",
       "      <th>Sentiment</th>\n",
       "      <th>text</th>\n",
       "    </tr>\n",
       "  </thead>\n",
       "  <tbody>\n",
       "    <tr>\n",
       "      <th>53995</th>\n",
       "      <td>Negative</td>\n",
       "      <td>THAT IS, POZDRAVLYAETSя!!!!!.....................</td>\n",
       "    </tr>\n",
       "    <tr>\n",
       "      <th>12624</th>\n",
       "      <td>Negative</td>\n",
       "      <td>Aye why @ NBA2K _ MyTEAM give @ mikal _ bridge...</td>\n",
       "    </tr>\n",
       "    <tr>\n",
       "      <th>74615</th>\n",
       "      <td>Positive</td>\n",
       "      <td>This news about the Nvidia 3000 series is ligi...</td>\n",
       "    </tr>\n",
       "    <tr>\n",
       "      <th>39854</th>\n",
       "      <td>Neutral</td>\n",
       "      <td>Fair play I’m pretty high on</td>\n",
       "    </tr>\n",
       "    <tr>\n",
       "      <th>27466</th>\n",
       "      <td>Neutral</td>\n",
       "      <td>Shop Price Creed 8 Flag offers in ebay. New in...</td>\n",
       "    </tr>\n",
       "  </tbody>\n",
       "</table>\n",
       "</div>"
      ],
      "text/plain": [
       "      Sentiment                                               text\n",
       "53995  Negative  THAT IS, POZDRAVLYAETSя!!!!!.....................\n",
       "12624  Negative  Aye why @ NBA2K _ MyTEAM give @ mikal _ bridge...\n",
       "74615  Positive  This news about the Nvidia 3000 series is ligi...\n",
       "39854   Neutral                       Fair play I’m pretty high on\n",
       "27466   Neutral  Shop Price Creed 8 Flag offers in ebay. New in..."
      ]
     },
     "execution_count": 29,
     "metadata": {},
     "output_type": "execute_result"
    }
   ],
   "source": [
    "tweets.head()"
   ]
  },
  {
   "cell_type": "code",
   "execution_count": 30,
   "id": "ccb670c2",
   "metadata": {
    "execution": {
     "iopub.execute_input": "2022-09-18T16:53:26.696224Z",
     "iopub.status.busy": "2022-09-18T16:53:26.695388Z",
     "iopub.status.idle": "2022-09-18T16:53:26.700844Z",
     "shell.execute_reply": "2022-09-18T16:53:26.699962Z"
    },
    "papermill": {
     "duration": 0.016766,
     "end_time": "2022-09-18T16:53:26.702883",
     "exception": false,
     "start_time": "2022-09-18T16:53:26.686117",
     "status": "completed"
    },
    "tags": []
   },
   "outputs": [],
   "source": [
    "sentences = tweets['text'].values\n",
    "labels = tweets['Sentiment'].values"
   ]
  },
  {
   "cell_type": "code",
   "execution_count": 31,
   "id": "77c883fe",
   "metadata": {
    "execution": {
     "iopub.execute_input": "2022-09-18T16:53:26.720904Z",
     "iopub.status.busy": "2022-09-18T16:53:26.720574Z",
     "iopub.status.idle": "2022-09-18T16:53:26.727368Z",
     "shell.execute_reply": "2022-09-18T16:53:26.726537Z"
    },
    "papermill": {
     "duration": 0.018372,
     "end_time": "2022-09-18T16:53:26.729489",
     "exception": false,
     "start_time": "2022-09-18T16:53:26.711117",
     "status": "completed"
    },
    "tags": []
   },
   "outputs": [],
   "source": [
    "stopwords = [set(stopwords.words('english'))]"
   ]
  },
  {
   "cell_type": "markdown",
   "id": "f9a3de8f",
   "metadata": {},
   "source": [
    "# Data Cleaning"
   ]
  },
  {
   "cell_type": "code",
   "execution_count": 32,
   "id": "9cb01f1f",
   "metadata": {
    "execution": {
     "iopub.execute_input": "2022-09-18T16:53:26.747035Z",
     "iopub.status.busy": "2022-09-18T16:53:26.746698Z",
     "iopub.status.idle": "2022-09-18T16:54:41.210036Z",
     "shell.execute_reply": "2022-09-18T16:54:41.209083Z"
    },
    "papermill": {
     "duration": 74.474828,
     "end_time": "2022-09-18T16:54:41.212520",
     "exception": false,
     "start_time": "2022-09-18T16:53:26.737692",
     "status": "completed"
    },
    "tags": []
   },
   "outputs": [
    {
     "name": "stdout",
     "output_type": "stream",
     "text": [
      "Count: 0\n",
      "Count: 10000\n",
      "Count: 20000\n",
      "Count: 30000\n",
      "Count: 40000\n",
      "Count: 50000\n",
      "Count: 60000\n"
     ]
    }
   ],
   "source": [
    "cleaned_sentences = []\n",
    "final_labels = []\n",
    "for i in range(len(sentences)):\n",
    "    try:\n",
    "        sent = re.sub('[^A-Za-z]',' ',sentences[i])\n",
    "        sent = sent.lower()\n",
    "        sent = nltk.word_tokenize(sent)\n",
    "        ps = nltk.pos_tag(sent)\n",
    "        sent = [i[0] for i in ps if i[1] == ('JJ' or 'VBP'or'VB')]\n",
    "        sent = ' '.join(sent)\n",
    "        if sent != '':\n",
    "            cleaned_sentences.append(sentences[i])\n",
    "            final_labels.append(labels[i])\n",
    "        if i%10000==0:\n",
    "            print('Count:',i)\n",
    "    except:\n",
    "        pass"
   ]
  },
  {
   "cell_type": "code",
   "execution_count": 33,
   "id": "12bba627",
   "metadata": {
    "execution": {
     "iopub.execute_input": "2022-09-18T16:54:41.231429Z",
     "iopub.status.busy": "2022-09-18T16:54:41.231107Z",
     "iopub.status.idle": "2022-09-18T16:54:42.186029Z",
     "shell.execute_reply": "2022-09-18T16:54:42.184749Z"
    },
    "papermill": {
     "duration": 0.967253,
     "end_time": "2022-09-18T16:54:42.188642",
     "exception": false,
     "start_time": "2022-09-18T16:54:41.221389",
     "status": "completed"
    },
    "tags": []
   },
   "outputs": [
    {
     "name": "stdout",
     "output_type": "stream",
     "text": [
      "Score 0.8174820750738085\n",
      "F1-score 0.8189800102463473\n"
     ]
    }
   ],
   "source": [
    "from sklearn.feature_extraction.text import CountVectorizer, TfidfVectorizer\n",
    "\n",
    "cv = CountVectorizer()\n",
    "X = cv.fit_transform(cleaned_sentences)\n",
    "\n",
    "from sklearn.model_selection import train_test_split\n",
    "X_train, X_test, y_train, y_test = train_test_split(X, final_labels, test_size = 0.20, random_state = 32)\n",
    "\n",
    "from sklearn.naive_bayes import MultinomialNB\n",
    "\n",
    "nb_clf = MultinomialNB()\n",
    "nb_clf.fit(X_train,y_train)\n",
    "\n",
    "y_pred  = nb_clf.predict(X_test)\n",
    "\n",
    "from sklearn.metrics import accuracy_score,f1_score,confusion_matrix\n",
    "print(\"Score\",accuracy_score(y_pred,y_test))\n",
    "print(\"F1-score\",f1_score(y_pred,y_test,average='weighted'))"
   ]
  },
  {
   "cell_type": "code",
   "execution_count": 34,
   "id": "3329ad29",
   "metadata": {
    "execution": {
     "iopub.execute_input": "2022-09-18T16:54:42.209544Z",
     "iopub.status.busy": "2022-09-18T16:54:42.208005Z",
     "iopub.status.idle": "2022-09-18T16:54:43.218451Z",
     "shell.execute_reply": "2022-09-18T16:54:43.217260Z"
    },
    "papermill": {
     "duration": 1.022766,
     "end_time": "2022-09-18T16:54:43.220921",
     "exception": false,
     "start_time": "2022-09-18T16:54:42.198155",
     "status": "completed"
    },
    "tags": []
   },
   "outputs": [
    {
     "name": "stdout",
     "output_type": "stream",
     "text": [
      "Score 0.8458456347532687\n",
      "F1-score 0.8463367739277764\n"
     ]
    }
   ],
   "source": [
    "tf = TfidfVectorizer()\n",
    "messages_tf = tf.fit_transform(cleaned_sentences)\n",
    "X_train, X_test, y_train, y_test = train_test_split(messages_tf, final_labels, test_size = 0.20, random_state = 32)\n",
    "nb_clf_tf = MultinomialNB()\n",
    "nb_clf_tf.fit(X_train,y_train)\n",
    "y_pred_tf  = nb_clf.predict(X_test)\n",
    "print(\"Score\",accuracy_score(y_pred_tf,y_test))\n",
    "print(\"F1-score\",f1_score(y_pred_tf,y_test,average='weighted'))"
   ]
  },
  {
   "cell_type": "code",
   "execution_count": 1,
   "id": "0d817e78",
   "metadata": {
    "execution": {
     "iopub.execute_input": "2022-09-18T16:54:43.241003Z",
     "iopub.status.busy": "2022-09-18T16:54:43.240645Z",
     "iopub.status.idle": "2022-09-18T16:54:43.245192Z",
     "shell.execute_reply": "2022-09-18T16:54:43.244161Z"
    },
    "papermill": {
     "duration": 0.017243,
     "end_time": "2022-09-18T16:54:43.247591",
     "exception": false,
     "start_time": "2022-09-18T16:54:43.230348",
     "status": "completed"
    },
    "tags": []
   },
   "outputs": [],
   "source": [
    "# cleaned_sentences,final_labels"
   ]
  },
  {
   "cell_type": "code",
   "execution_count": 40,
   "id": "8026cecf",
   "metadata": {
    "execution": {
     "iopub.execute_input": "2022-09-18T16:54:43.266456Z",
     "iopub.status.busy": "2022-09-18T16:54:43.266161Z",
     "iopub.status.idle": "2022-09-18T16:54:44.020693Z",
     "shell.execute_reply": "2022-09-18T16:54:44.019656Z"
    },
    "papermill": {
     "duration": 0.767537,
     "end_time": "2022-09-18T16:54:44.024078",
     "exception": false,
     "start_time": "2022-09-18T16:54:43.256541",
     "status": "completed"
    },
    "tags": []
   },
   "outputs": [],
   "source": [
    "from numpy import array\n",
    "from keras.preprocessing.text import one_hot\n",
    "from keras_preprocessing.sequence import pad_sequences\n",
    "from keras.models import Sequential\n",
    "from keras.layers.core import Activation, Dropout, Dense\n",
    "from keras.layers import Flatten\n",
    "from keras.layers import GlobalMaxPooling1D\n",
    "from keras.layers import Embedding\n",
    "from keras.preprocessing.text import Tokenizer"
   ]
  },
  {
   "cell_type": "code",
   "execution_count": 41,
   "id": "ecd96fce",
   "metadata": {
    "execution": {
     "iopub.execute_input": "2022-09-18T16:54:44.052170Z",
     "iopub.status.busy": "2022-09-18T16:54:44.051785Z",
     "iopub.status.idle": "2022-09-18T16:54:44.075546Z",
     "shell.execute_reply": "2022-09-18T16:54:44.074688Z"
    },
    "papermill": {
     "duration": 0.040266,
     "end_time": "2022-09-18T16:54:44.078193",
     "exception": false,
     "start_time": "2022-09-18T16:54:44.037927",
     "status": "completed"
    },
    "tags": []
   },
   "outputs": [],
   "source": [
    "for j,i in enumerate(final_labels):\n",
    "    if i=='Positive':\n",
    "        final_labels[j]=0\n",
    "    elif i==\"Negative\":\n",
    "        final_labels[j]=1\n",
    "    else:\n",
    "        final_labels[j]=2"
   ]
  },
  {
   "cell_type": "code",
   "execution_count": 42,
   "id": "116bff7f",
   "metadata": {
    "execution": {
     "iopub.execute_input": "2022-09-18T16:54:44.105970Z",
     "iopub.status.busy": "2022-09-18T16:54:44.105592Z",
     "iopub.status.idle": "2022-09-18T16:54:44.455500Z",
     "shell.execute_reply": "2022-09-18T16:54:44.454305Z"
    },
    "papermill": {
     "duration": 0.366514,
     "end_time": "2022-09-18T16:54:44.457967",
     "exception": false,
     "start_time": "2022-09-18T16:54:44.091453",
     "status": "completed"
    },
    "tags": []
   },
   "outputs": [],
   "source": [
    "import tensorflow as tf\n",
    "final_labels_ = tf.keras.utils.to_categorical(final_labels,num_classes=3)"
   ]
  },
  {
   "cell_type": "code",
   "execution_count": 43,
   "id": "0e25739d",
   "metadata": {
    "execution": {
     "iopub.execute_input": "2022-09-18T16:54:44.477173Z",
     "iopub.status.busy": "2022-09-18T16:54:44.476574Z",
     "iopub.status.idle": "2022-09-18T16:54:44.483539Z",
     "shell.execute_reply": "2022-09-18T16:54:44.482592Z"
    },
    "papermill": {
     "duration": 0.018874,
     "end_time": "2022-09-18T16:54:44.485645",
     "exception": false,
     "start_time": "2022-09-18T16:54:44.466771",
     "status": "completed"
    },
    "tags": []
   },
   "outputs": [
    {
     "data": {
      "text/plain": [
       "array([[0., 1., 0.],\n",
       "       [1., 0., 0.],\n",
       "       [0., 0., 1.],\n",
       "       ...,\n",
       "       [1., 0., 0.],\n",
       "       [1., 0., 0.],\n",
       "       [1., 0., 0.]], dtype=float32)"
      ]
     },
     "execution_count": 43,
     "metadata": {},
     "output_type": "execute_result"
    }
   ],
   "source": [
    "final_labels_"
   ]
  },
  {
   "cell_type": "markdown",
   "id": "fee57142",
   "metadata": {},
   "source": [
    "# Dividing the dataset"
   ]
  },
  {
   "cell_type": "code",
   "execution_count": 44,
   "id": "d233cfd6",
   "metadata": {
    "execution": {
     "iopub.execute_input": "2022-09-18T16:54:44.505199Z",
     "iopub.status.busy": "2022-09-18T16:54:44.504883Z",
     "iopub.status.idle": "2022-09-18T16:54:44.525101Z",
     "shell.execute_reply": "2022-09-18T16:54:44.524112Z"
    },
    "papermill": {
     "duration": 0.032094,
     "end_time": "2022-09-18T16:54:44.527074",
     "exception": false,
     "start_time": "2022-09-18T16:54:44.494980",
     "status": "completed"
    },
    "tags": []
   },
   "outputs": [],
   "source": [
    "X_train, X_test_val, y_train, y_test_val = train_test_split(cleaned_sentences, final_labels_, test_size=0.20, random_state=42)"
   ]
  },
  {
   "cell_type": "code",
   "execution_count": 45,
   "id": "d0f790ee",
   "metadata": {
    "execution": {
     "iopub.execute_input": "2022-09-18T16:54:44.555540Z",
     "iopub.status.busy": "2022-09-18T16:54:44.555201Z",
     "iopub.status.idle": "2022-09-18T16:54:44.564253Z",
     "shell.execute_reply": "2022-09-18T16:54:44.563394Z"
    },
    "papermill": {
     "duration": 0.02204,
     "end_time": "2022-09-18T16:54:44.566380",
     "exception": false,
     "start_time": "2022-09-18T16:54:44.544340",
     "status": "completed"
    },
    "tags": []
   },
   "outputs": [],
   "source": [
    "X_test, X_val, y_test, y_val = train_test_split(X_test_val, y_test_val, test_size=0.50, random_state=41)"
   ]
  },
  {
   "cell_type": "code",
   "execution_count": 46,
   "id": "5a8843d8",
   "metadata": {
    "execution": {
     "iopub.execute_input": "2022-09-18T16:54:44.585141Z",
     "iopub.status.busy": "2022-09-18T16:54:44.584830Z",
     "iopub.status.idle": "2022-09-18T16:54:46.569729Z",
     "shell.execute_reply": "2022-09-18T16:54:46.568805Z"
    },
    "papermill": {
     "duration": 1.997482,
     "end_time": "2022-09-18T16:54:46.572580",
     "exception": false,
     "start_time": "2022-09-18T16:54:44.575098",
     "status": "completed"
    },
    "tags": []
   },
   "outputs": [],
   "source": [
    "num_words = 5000\n",
    "tokenizer = Tokenizer(num_words=num_words,oov_token=\"<OOV>\")\n",
    "tokenizer.fit_on_texts(X_train)\n",
    "\n",
    "X_train = tokenizer.texts_to_sequences(X_train)\n",
    "X_test = tokenizer.texts_to_sequences(X_test)\n",
    "X_val = tokenizer.texts_to_sequences(X_val)"
   ]
  },
  {
   "cell_type": "code",
   "execution_count": 47,
   "id": "9fbbc86b",
   "metadata": {
    "execution": {
     "iopub.execute_input": "2022-09-18T16:54:46.592443Z",
     "iopub.status.busy": "2022-09-18T16:54:46.591511Z",
     "iopub.status.idle": "2022-09-18T16:54:46.751043Z",
     "shell.execute_reply": "2022-09-18T16:54:46.749970Z"
    },
    "papermill": {
     "duration": 0.172047,
     "end_time": "2022-09-18T16:54:46.753450",
     "exception": false,
     "start_time": "2022-09-18T16:54:46.581403",
     "status": "completed"
    },
    "tags": []
   },
   "outputs": [],
   "source": [
    "vocab_size = len(tokenizer.word_index) + 1\n",
    "\n",
    "max_len = 120\n",
    "emb_dim = 100\n",
    "\n",
    "X_train = pad_sequences(X_train, padding='post', maxlen=max_len)\n",
    "X_test = pad_sequences(X_test, padding='post', maxlen=max_len)\n",
    "X_val = pad_sequences(X_val, padding='post', maxlen=max_len)"
   ]
  },
  {
   "cell_type": "markdown",
   "id": "816f0a26",
   "metadata": {},
   "source": [
    "# Model"
   ]
  },
  {
   "cell_type": "code",
   "execution_count": 48,
   "id": "4eafd3f0",
   "metadata": {
    "execution": {
     "iopub.execute_input": "2022-09-18T16:54:46.772445Z",
     "iopub.status.busy": "2022-09-18T16:54:46.772128Z",
     "iopub.status.idle": "2022-09-18T16:54:49.966885Z",
     "shell.execute_reply": "2022-09-18T16:54:49.965366Z"
    },
    "papermill": {
     "duration": 3.206865,
     "end_time": "2022-09-18T16:54:49.969115",
     "exception": false,
     "start_time": "2022-09-18T16:54:46.762250",
     "status": "completed"
    },
    "tags": []
   },
   "outputs": [
    {
     "name": "stdout",
     "output_type": "stream",
     "text": [
      "Model: \"sequential\"\n",
      "_________________________________________________________________\n",
      " Layer (type)                Output Shape              Param #   \n",
      "=================================================================\n",
      " embedding (Embedding)       (None, 120, 100)          2669700   \n",
      "                                                                 \n",
      " global_average_pooling1d (G  (None, 100)              0         \n",
      " lobalAveragePooling1D)                                          \n",
      "                                                                 \n",
      " dense (Dense)               (None, 6)                 606       \n",
      "                                                                 \n",
      " dense_1 (Dense)             (None, 3)                 21        \n",
      "                                                                 \n",
      "=================================================================\n",
      "Total params: 2,670,327\n",
      "Trainable params: 2,670,327\n",
      "Non-trainable params: 0\n",
      "_________________________________________________________________\n"
     ]
    }
   ],
   "source": [
    "model = tf.keras.Sequential([\n",
    "    tf.keras.layers.Embedding(vocab_size, emb_dim, input_length=max_len),\n",
    "    tf.keras.layers.GlobalAveragePooling1D(),\n",
    "    tf.keras.layers.Dense(6, activation='relu'),\n",
    "    tf.keras.layers.Dense(3, activation='softmax')\n",
    "])\n",
    "model.summary()"
   ]
  },
  {
   "cell_type": "code",
   "execution_count": 49,
   "id": "13db87b7",
   "metadata": {
    "execution": {
     "iopub.execute_input": "2022-09-18T16:54:49.988817Z",
     "iopub.status.busy": "2022-09-18T16:54:49.988489Z",
     "iopub.status.idle": "2022-09-18T16:54:50.001734Z",
     "shell.execute_reply": "2022-09-18T16:54:50.000788Z"
    },
    "papermill": {
     "duration": 0.025471,
     "end_time": "2022-09-18T16:54:50.004049",
     "exception": false,
     "start_time": "2022-09-18T16:54:49.978578",
     "status": "completed"
    },
    "tags": []
   },
   "outputs": [],
   "source": [
    "model.compile(loss='categorical_crossentropy', optimizer='adam', metrics=['accuracy'])"
   ]
  },
  {
   "cell_type": "code",
   "execution_count": 50,
   "id": "c6de355d",
   "metadata": {
    "execution": {
     "iopub.execute_input": "2022-09-18T16:54:50.023321Z",
     "iopub.status.busy": "2022-09-18T16:54:50.023021Z",
     "iopub.status.idle": "2022-09-18T16:57:12.696229Z",
     "shell.execute_reply": "2022-09-18T16:57:12.695206Z"
    },
    "papermill": {
     "duration": 142.685785,
     "end_time": "2022-09-18T16:57:12.698717",
     "exception": false,
     "start_time": "2022-09-18T16:54:50.012932",
     "status": "completed"
    },
    "tags": []
   },
   "outputs": [
    {
     "name": "stdout",
     "output_type": "stream",
     "text": [
      "Epoch 1/20\n",
      "1186/1186 [==============================] - 30s 24ms/step - loss: 0.9256 - accuracy: 0.5800 - val_loss: 0.7447 - val_accuracy: 0.7052\n",
      "Epoch 2/20\n",
      "1186/1186 [==============================] - 28s 24ms/step - loss: 0.6553 - accuracy: 0.7361 - val_loss: 0.6118 - val_accuracy: 0.7596\n",
      "Epoch 3/20\n",
      "1186/1186 [==============================] - 28s 23ms/step - loss: 0.5399 - accuracy: 0.7897 - val_loss: 0.5719 - val_accuracy: 0.7712\n",
      "Epoch 4/20\n",
      "1186/1186 [==============================] - 28s 23ms/step - loss: 0.4718 - accuracy: 0.8165 - val_loss: 0.5277 - val_accuracy: 0.7830\n",
      "Epoch 5/20\n",
      "1186/1186 [==============================] - 28s 23ms/step - loss: 0.4279 - accuracy: 0.8344 - val_loss: 0.5020 - val_accuracy: 0.7988\n",
      "Epoch 6/20\n",
      "1186/1186 [==============================] - 28s 23ms/step - loss: 0.3972 - accuracy: 0.8458 - val_loss: 0.4863 - val_accuracy: 0.8075\n",
      "Epoch 7/20\n",
      "1186/1186 [==============================] - 28s 23ms/step - loss: 0.3745 - accuracy: 0.8532 - val_loss: 0.4858 - val_accuracy: 0.8134\n",
      "Epoch 8/20\n",
      "1186/1186 [==============================] - 23s 20ms/step - loss: 0.3579 - accuracy: 0.8629 - val_loss: 0.4853 - val_accuracy: 0.8134\n",
      "Epoch 9/20\n",
      "1186/1186 [==============================] - 22s 19ms/step - loss: 0.3446 - accuracy: 0.8672 - val_loss: 0.4830 - val_accuracy: 0.8138\n",
      "Epoch 10/20\n",
      "1186/1186 [==============================] - 23s 19ms/step - loss: 0.3340 - accuracy: 0.8719 - val_loss: 0.4831 - val_accuracy: 0.8148\n",
      "Epoch 11/20\n",
      "1186/1186 [==============================] - 23s 19ms/step - loss: 0.3266 - accuracy: 0.8733 - val_loss: 0.4827 - val_accuracy: 0.8184\n",
      "Epoch 12/20\n",
      "1186/1186 [==============================] - 22s 19ms/step - loss: 0.3186 - accuracy: 0.8772 - val_loss: 0.4907 - val_accuracy: 0.8180\n",
      "Epoch 13/20\n",
      "1186/1186 [==============================] - 22s 19ms/step - loss: 0.3115 - accuracy: 0.8792 - val_loss: 0.4945 - val_accuracy: 0.8226\n",
      "Epoch 14/20\n",
      "1186/1186 [==============================] - 23s 19ms/step - loss: 0.3061 - accuracy: 0.8829 - val_loss: 0.5445 - val_accuracy: 0.7988\n",
      "Epoch 15/20\n",
      "1186/1186 [==============================] - 23s 19ms/step - loss: 0.3010 - accuracy: 0.8846 - val_loss: 0.5004 - val_accuracy: 0.8229\n",
      "Epoch 16/20\n",
      "1186/1186 [==============================] - 23s 19ms/step - loss: 0.2970 - accuracy: 0.8855 - val_loss: 0.5157 - val_accuracy: 0.8243\n",
      "Epoch 17/20\n",
      "1186/1186 [==============================] - 23s 19ms/step - loss: 0.2957 - accuracy: 0.8872 - val_loss: 0.5144 - val_accuracy: 0.8222\n",
      "Epoch 18/20\n",
      "1186/1186 [==============================] - 23s 19ms/step - loss: 0.2928 - accuracy: 0.8867 - val_loss: 0.5237 - val_accuracy: 0.8199\n",
      "Epoch 19/20\n",
      "1186/1186 [==============================] - 23s 19ms/step - loss: 0.2862 - accuracy: 0.8917 - val_loss: 0.5207 - val_accuracy: 0.8226\n",
      "Epoch 20/20\n",
      "1186/1186 [==============================] - 23s 19ms/step - loss: 0.2822 - accuracy: 0.8922 - val_loss: 0.5463 - val_accuracy: 0.8195\n"
     ]
    }
   ],
   "source": [
    "epochs = 20\n",
    "history = model.fit(X_train, y_train, epochs=epochs,batch_size=32, validation_data=(X_val, y_val))"
   ]
  },
  {
   "cell_type": "code",
   "execution_count": 51,
   "id": "2d787e2e",
   "metadata": {
    "execution": {
     "iopub.execute_input": "2022-09-18T16:57:12.879218Z",
     "iopub.status.busy": "2022-09-18T16:57:12.878169Z",
     "iopub.status.idle": "2022-09-18T16:57:12.963440Z",
     "shell.execute_reply": "2022-09-18T16:57:12.962479Z"
    },
    "papermill": {
     "duration": 0.178448,
     "end_time": "2022-09-18T16:57:12.965813",
     "exception": false,
     "start_time": "2022-09-18T16:57:12.787365",
     "status": "completed"
    },
    "tags": []
   },
   "outputs": [],
   "source": [
    "model.save('sentiment_model.h5')"
   ]
  },
  {
   "cell_type": "markdown",
   "id": "2c0598cd",
   "metadata": {},
   "source": [
    "# Accuracy Curve and Loss Curve"
   ]
  },
  {
   "cell_type": "code",
   "execution_count": 52,
   "id": "a02a0dae",
   "metadata": {
    "execution": {
     "iopub.execute_input": "2022-09-18T16:57:13.145330Z",
     "iopub.status.busy": "2022-09-18T16:57:13.144965Z",
     "iopub.status.idle": "2022-09-18T16:57:13.361681Z",
     "shell.execute_reply": "2022-09-18T16:57:13.360670Z"
    },
    "papermill": {
     "duration": 0.308642,
     "end_time": "2022-09-18T16:57:13.363952",
     "exception": false,
     "start_time": "2022-09-18T16:57:13.055310",
     "status": "completed"
    },
    "tags": []
   },
   "outputs": [
    {
     "data": {
      "image/png": "[encoded data removed]",
      "text/plain": [
       "<Figure size 640x480 with 1 Axes>"
      ]
     },
     "metadata": {},
     "output_type": "display_data"
    }
   ],
   "source": [
    "import matplotlib.pyplot as plt\n",
    "\n",
    "plt.plot(history.history['accuracy'])\n",
    "plt.plot(history.history['val_accuracy'])\n",
    "plt.title('model accuracy')\n",
    "plt.ylabel('accuracy')\n",
    "plt.xlabel('epoch')\n",
    "plt.legend(['train', 'val'], loc='upper left')\n",
    "plt.show()"
   ]
  },
  {
   "cell_type": "code",
   "execution_count": 53,
   "id": "743b2fc9",
   "metadata": {
    "execution": {
     "iopub.execute_input": "2022-09-18T16:57:13.542076Z",
     "iopub.status.busy": "2022-09-18T16:57:13.541170Z",
     "iopub.status.idle": "2022-09-18T16:57:13.744510Z",
     "shell.execute_reply": "2022-09-18T16:57:13.743611Z"
    },
    "papermill": {
     "duration": 0.294253,
     "end_time": "2022-09-18T16:57:13.746488",
     "exception": false,
     "start_time": "2022-09-18T16:57:13.452235",
     "status": "completed"
    },
    "tags": []
   },
   "outputs": [
    {
     "data": {
      "image/png": "[encoded data removed]",
      "text/plain": [
       "<Figure size 640x480 with 1 Axes>"
      ]
     },
     "metadata": {},
     "output_type": "display_data"
    }
   ],
   "source": [
    "import matplotlib.pyplot as plt\n",
    "\n",
    "plt.plot(history.history['loss'])\n",
    "plt.plot(history.history['val_loss'])\n",
    "plt.title('model loss')\n",
    "plt.ylabel('loss')\n",
    "plt.xlabel('epoch')\n",
    "plt.legend(['train', 'val'], loc='upper left')\n",
    "plt.show()"
   ]
  },
  {
   "cell_type": "code",
   "execution_count": 54,
   "id": "6aa6bb30",
   "metadata": {
    "execution": {
     "iopub.execute_input": "2022-09-18T16:57:13.923639Z",
     "iopub.status.busy": "2022-09-18T16:57:13.923004Z",
     "iopub.status.idle": "2022-09-18T16:57:14.158356Z",
     "shell.execute_reply": "2022-09-18T16:57:14.157299Z"
    },
    "papermill": {
     "duration": 0.327083,
     "end_time": "2022-09-18T16:57:14.161101",
     "exception": false,
     "start_time": "2022-09-18T16:57:13.834018",
     "status": "completed"
    },
    "tags": []
   },
   "outputs": [
    {
     "name": "stdout",
     "output_type": "stream",
     "text": [
      "149/149 [==============================] - 0s 2ms/step\n"
     ]
    }
   ],
   "source": [
    "pred = model.predict(X_test)"
   ]
  },
  {
   "cell_type": "code",
   "execution_count": 55,
   "id": "7e78e244",
   "metadata": {
    "execution": {
     "iopub.execute_input": "2022-09-18T16:57:14.345486Z",
     "iopub.status.busy": "2022-09-18T16:57:14.345125Z",
     "iopub.status.idle": "2022-09-18T16:57:14.351945Z",
     "shell.execute_reply": "2022-09-18T16:57:14.350980Z"
    },
    "papermill": {
     "duration": 0.10461,
     "end_time": "2022-09-18T16:57:14.354077",
     "exception": false,
     "start_time": "2022-09-18T16:57:14.249467",
     "status": "completed"
    },
    "tags": []
   },
   "outputs": [
    {
     "data": {
      "text/plain": [
       "array([  60,   14, 1664, 1918,   23,   53,    1,   70,    3, 1138,    4,\n",
       "        102,  316, 1423,   31,    3,   94, 1576,   34,   14,   93,    1,\n",
       "         20,   16,   46, 2815,  408,   14, 1562,   58,  687,    7, 1898,\n",
       "        140,   23,    0,    0,    0,    0,    0,    0,    0,    0,    0,\n",
       "          0,    0,    0,    0,    0,    0,    0,    0,    0,    0,    0,\n",
       "          0,    0,    0,    0,    0,    0,    0,    0,    0,    0,    0,\n",
       "          0,    0,    0,    0,    0,    0,    0,    0,    0,    0,    0,\n",
       "          0,    0,    0,    0,    0,    0,    0,    0,    0,    0,    0,\n",
       "          0,    0,    0,    0,    0,    0,    0,    0,    0,    0,    0,\n",
       "          0,    0,    0,    0,    0,    0,    0,    0,    0,    0,    0,\n",
       "          0,    0,    0,    0,    0,    0,    0,    0,    0,    0])"
      ]
     },
     "execution_count": 55,
     "metadata": {},
     "output_type": "execute_result"
    }
   ],
   "source": [
    "X_test[0]"
   ]
  },
  {
   "cell_type": "code",
   "execution_count": 56,
   "id": "9e971989",
   "metadata": {
    "execution": {
     "iopub.execute_input": "2022-09-18T16:57:14.537175Z",
     "iopub.status.busy": "2022-09-18T16:57:14.536273Z",
     "iopub.status.idle": "2022-09-18T16:57:14.541596Z",
     "shell.execute_reply": "2022-09-18T16:57:14.540727Z"
    },
    "papermill": {
     "duration": 0.097421,
     "end_time": "2022-09-18T16:57:14.543688",
     "exception": false,
     "start_time": "2022-09-18T16:57:14.446267",
     "status": "completed"
    },
    "tags": []
   },
   "outputs": [],
   "source": [
    "pred = np.argmax(pred,axis=1)\n",
    "y_test = np.argmax(y_test,axis=1)"
   ]
  },
  {
   "cell_type": "code",
   "execution_count": 57,
   "id": "74389fa2",
   "metadata": {
    "execution": {
     "iopub.execute_input": "2022-09-18T16:57:14.722393Z",
     "iopub.status.busy": "2022-09-18T16:57:14.722043Z",
     "iopub.status.idle": "2022-09-18T16:57:14.729277Z",
     "shell.execute_reply": "2022-09-18T16:57:14.728351Z"
    },
    "papermill": {
     "duration": 0.098569,
     "end_time": "2022-09-18T16:57:14.731422",
     "exception": false,
     "start_time": "2022-09-18T16:57:14.632853",
     "status": "completed"
    },
    "tags": []
   },
   "outputs": [
    {
     "data": {
      "text/plain": [
       "0.7992408266554196"
      ]
     },
     "execution_count": 57,
     "metadata": {},
     "output_type": "execute_result"
    }
   ],
   "source": [
    "from sklearn.metrics import accuracy_score\n",
    "# pred = np.argmax(pred, axis=1)\n",
    "accuracy_score(pred, y_test)"
   ]
  },
  {
   "cell_type": "code",
   "execution_count": null,
   "id": "593e0208",
   "metadata": {
    "papermill": {
     "duration": 0.087741,
     "end_time": "2022-09-18T16:57:14.967160",
     "exception": false,
     "start_time": "2022-09-18T16:57:14.879419",
     "status": "completed"
    },
    "tags": []
   },
   "outputs": [],
   "source": []
  }
 ],
 "metadata": {
  "kernelspec": {
   "display_name": "Python 3 (ipykernel)",
   "language": "python",
   "name": "python3"
  },
  "language_info": {
   "codemirror_mode": {
    "name": "ipython",
    "version": 3
   },
   "file_extension": ".py",
   "mimetype": "text/x-python",
   "name": "python",
   "nbconvert_exporter": "python",
   "pygments_lexer": "ipython3",
   "version": "3.10.6"
  },
  "papermill": {
   "default_parameters": {},
   "duration": 247.472029,
   "end_time": "2022-09-18T16:57:18.577083",
   "environment_variables": {},
   "exception": null,
   "input_path": "__notebook__.ipynb",
   "output_path": "__notebook__.ipynb",
   "parameters": {},
   "start_time": "2022-09-18T16:53:11.105054",
   "version": "2.3.4"
  }
 },
 "nbformat": 4,
 "nbformat_minor": 5
}
